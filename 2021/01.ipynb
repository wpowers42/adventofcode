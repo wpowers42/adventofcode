{
 "cells": [
  {
   "cell_type": "code",
   "execution_count": 33,
   "metadata": {},
   "outputs": [],
   "source": [
    "import requests\n",
    "import os\n",
    "from dotenv import load_dotenv, find_dotenv"
   ]
  },
  {
   "cell_type": "code",
   "execution_count": 34,
   "metadata": {},
   "outputs": [],
   "source": [
    "load_dotenv(find_dotenv())\n",
    "session_cookie = os.environ.get('session')"
   ]
  },
  {
   "cell_type": "code",
   "execution_count": 105,
   "metadata": {},
   "outputs": [],
   "source": [
    "url = 'https://adventofcode.com/2021/day/1/input'\n",
    "puzzle_input = requests.get(url, cookies={'session': session_cookie}).text.split('\\n')\n",
    "puzzle_input = [ int(s) for s in puzzle_input if s != '' ]"
   ]
  },
  {
   "cell_type": "code",
   "execution_count": 122,
   "metadata": {},
   "outputs": [],
   "source": [
    "def count_increases(readings, window=1):\n",
    "    increases = 0\n",
    "    \n",
    "    for i in range(len(readings)):\n",
    "        first_window = sum(readings[i:i+window])\n",
    "        second_window = sum(readings[i+1:i+1+window])\n",
    "        if second_window > first_window:\n",
    "            increases += 1\n",
    "    return increases"
   ]
  },
  {
   "cell_type": "code",
   "execution_count": 124,
   "metadata": {},
   "outputs": [],
   "source": [
    "def tests():\n",
    "    assert count_increases([1,1,1]) == 0\n",
    "    assert count_increases([1,2,3]) == 2\n",
    "    assert count_increases([1,2,1]) == 1\n",
    "    assert count_increases([1,2,3], 2) == 1\n",
    "    \n",
    "tests()"
   ]
  },
  {
   "cell_type": "code",
   "execution_count": 130,
   "metadata": {},
   "outputs": [
    {
     "data": {
      "text/plain": [
       "1217"
      ]
     },
     "execution_count": 130,
     "metadata": {},
     "output_type": "execute_result"
    }
   ],
   "source": [
    "count_increases(puzzle_input, 3)"
   ]
  },
  {
   "cell_type": "code",
   "execution_count": null,
   "metadata": {},
   "outputs": [],
   "source": []
  }
 ],
 "metadata": {
  "interpreter": {
   "hash": "523d82733aca352e47f67ac5e556ef5d96d4e91729b19ec2850c867d1afada49"
  },
  "kernelspec": {
   "display_name": "venv_adventofcode",
   "language": "python",
   "name": "venv_adventofcode"
  },
  "language_info": {
   "codemirror_mode": {
    "name": "ipython",
    "version": 3
   },
   "file_extension": ".py",
   "mimetype": "text/x-python",
   "name": "python",
   "nbconvert_exporter": "python",
   "pygments_lexer": "ipython3",
   "version": "3.9.7"
  }
 },
 "nbformat": 4,
 "nbformat_minor": 4
}
