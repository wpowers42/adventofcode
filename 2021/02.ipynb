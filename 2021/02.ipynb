{
 "cells": [
  {
   "cell_type": "code",
   "execution_count": 1,
   "id": "52ee15cf-82fc-4c40-be9a-bb9137a29145",
   "metadata": {},
   "outputs": [],
   "source": [
    "import requests\n",
    "import os\n",
    "from dotenv import load_dotenv, find_dotenv"
   ]
  },
  {
   "cell_type": "code",
   "execution_count": 2,
   "id": "93931c5a-705d-4ca4-994a-e7abe6d9607f",
   "metadata": {},
   "outputs": [],
   "source": [
    "load_dotenv(find_dotenv())\n",
    "session_cookie = os.environ.get('session')"
   ]
  },
  {
   "cell_type": "code",
   "execution_count": 10,
   "id": "afc41fee-7b7d-42b5-8fb1-2664a6642b14",
   "metadata": {},
   "outputs": [],
   "source": [
    "url = 'https://adventofcode.com/2021/day/2/input'\n",
    "puzzle_input = requests.get(url, cookies={'session': session_cookie}).text.split('\\n')\n",
    "puzzle_input = list(filter(lambda x: x != '', puzzle_input))"
   ]
  },
  {
   "cell_type": "code",
   "execution_count": 38,
   "id": "eac079f6-29c7-41f0-9050-54927173dd2b",
   "metadata": {},
   "outputs": [],
   "source": [
    "def get_final_position(course):\n",
    "    commands = {\n",
    "        'forward': 0,\n",
    "        'down': 0,\n",
    "        'up': 0\n",
    "    }\n",
    "    for command in course:\n",
    "        direction, units = command.split(' ')\n",
    "        commands[direction] += int(units)\n",
    "    return commands['forward'] * (commands['down'] - commands['up'])"
   ]
  },
  {
   "cell_type": "code",
   "execution_count": 39,
   "id": "ff5a150e-4a2e-47e1-8d1b-64cc0cfdaed2",
   "metadata": {},
   "outputs": [],
   "source": [
    "def tests():\n",
    "    assert get_final_position(['forward 5', 'forward 2', 'forward 9', 'down 2', 'forward 9']) == 50\n",
    "\n",
    "tests()"
   ]
  },
  {
   "cell_type": "code",
   "execution_count": 40,
   "id": "2df8c8c0-5212-476d-947a-bb67e9f3c4c1",
   "metadata": {},
   "outputs": [
    {
     "data": {
      "text/plain": [
       "1636725"
      ]
     },
     "execution_count": 40,
     "metadata": {},
     "output_type": "execute_result"
    }
   ],
   "source": [
    "get_final_position(puzzle_input)"
   ]
  },
  {
   "cell_type": "code",
   "execution_count": 61,
   "id": "9b9bf1a8-0b13-4f0d-9419-66182d833a51",
   "metadata": {},
   "outputs": [],
   "source": [
    "def get_final_position_part_two(course):\n",
    "    horizontal_position = 0\n",
    "    depth = 0\n",
    "    aim = 0\n",
    "\n",
    "    for command in course:\n",
    "        direction, units = command.split(' ')\n",
    "        units = int(units)\n",
    "        if direction == 'down':\n",
    "            aim += units\n",
    "        elif direction == 'up':\n",
    "            aim -= units\n",
    "        else:\n",
    "            horizontal_position += units\n",
    "            depth += aim * units\n",
    "    return horizontal_position * depth"
   ]
  },
  {
   "cell_type": "code",
   "execution_count": 59,
   "id": "7d254e26-a423-4848-ad74-cdc9c662eca9",
   "metadata": {},
   "outputs": [],
   "source": [
    "def tests():\n",
    "    assert get_final_position_part_two(['forward 5', 'down 5', 'forward 8', 'up 3', 'down 8', 'forward 2']) == 900\n",
    "\n",
    "tests()"
   ]
  },
  {
   "cell_type": "code",
   "execution_count": 60,
   "id": "687e282d-8318-447f-b8c1-9253413013b2",
   "metadata": {},
   "outputs": [
    {
     "data": {
      "text/plain": [
       "1872757425"
      ]
     },
     "execution_count": 60,
     "metadata": {},
     "output_type": "execute_result"
    }
   ],
   "source": [
    "get_final_position_part_two(puzzle_input)"
   ]
  }
 ],
 "metadata": {
  "kernelspec": {
   "display_name": "venv_adventofcode",
   "language": "python",
   "name": "venv_adventofcode"
  },
  "language_info": {
   "codemirror_mode": {
    "name": "ipython",
    "version": 3
   },
   "file_extension": ".py",
   "mimetype": "text/x-python",
   "name": "python",
   "nbconvert_exporter": "python",
   "pygments_lexer": "ipython3",
   "version": "3.9.7"
  }
 },
 "nbformat": 4,
 "nbformat_minor": 5
}
