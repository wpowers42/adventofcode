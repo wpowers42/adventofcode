{
 "cells": [
  {
   "cell_type": "code",
   "execution_count": 178,
   "id": "5b90e024-746b-435a-be2b-c1cf7f20552f",
   "metadata": {},
   "outputs": [],
   "source": [
    "with open('./input.txt', 'r') as f:\n",
    "    input01 = [ [ int(bit) for bit in bits ] for bits in f.read().split('\\n') ]"
   ]
  },
  {
   "cell_type": "code",
   "execution_count": 210,
   "id": "75d3b678-9520-4168-911d-0d4b141d8707",
   "metadata": {},
   "outputs": [],
   "source": [
    "def binary_to_decimal(binary):\n",
    "    \"\"\"expects a list of ints\"\"\"\n",
    "    decimal = 0\n",
    "    for index, bit in enumerate(binary[::-1]):\n",
    "        decimal += bit * 2 ** index\n",
    "    return decimal"
   ]
  },
  {
   "cell_type": "code",
   "execution_count": 224,
   "id": "841a7453-1009-402b-a22c-bfc09688dcd0",
   "metadata": {},
   "outputs": [],
   "source": [
    "def invert_binary(binary):\n",
    "    return [ (bit + 1) % 2 for bit in binary ]"
   ]
  },
  {
   "cell_type": "code",
   "execution_count": 212,
   "id": "4429c023-767f-4f8a-b3c7-91249af47758",
   "metadata": {},
   "outputs": [],
   "source": [
    "def most_common_bit(bits):\n",
    "    \"\"\"expects a list of bits\"\"\"\n",
    "    counts = [0, 0]\n",
    "    for bit in bits:\n",
    "        counts[bit] += 1\n",
    "    return 0 if counts[0] > counts[1] else 1"
   ]
  },
  {
   "cell_type": "code",
   "execution_count": 217,
   "id": "9a164bd5-5ad0-4473-91ba-da949e25cf99",
   "metadata": {},
   "outputs": [],
   "source": [
    "def transpose_report(report):\n",
    "    container = [ [] for _ in range(len(report[0])) ]\n",
    "    [ container[index].append(bit) for bits in report for index, bit in enumerate(bits) ]\n",
    "    return container"
   ]
  },
  {
   "cell_type": "code",
   "execution_count": 226,
   "id": "70c9283e-d37e-4a53-bf32-ce02d48b5d9c",
   "metadata": {},
   "outputs": [],
   "source": [
    "def power_consumption(report):\n",
    "    gamma_rate = [ most_common_bit(bits) for bits in transpose_report(report) ]\n",
    "    epsilon_rate = invert_binary(gamma_rate)\n",
    "    return binary_to_decimal(gamma_rate) * binary_to_decimal(epsilon_rate)"
   ]
  },
  {
   "cell_type": "code",
   "execution_count": 247,
   "id": "b47e3a01-221b-4987-8e62-8474cc799056",
   "metadata": {},
   "outputs": [],
   "source": [
    "test_report = ['00100','11110','10110','10111','10101','01111','00111','11100','10000','11001','00010','01010']\n",
    "test_report = [ [ int(bit) for bit in bits ] for bits in test_report ]\n",
    "\n",
    "def tests():\n",
    "    assert transpose_report([[0,0,1,0,0],[1,1,1,1,0]]) == [[0, 1], [0, 1], [1, 1], [0, 1], [0, 0]]\n",
    "    \n",
    "    assert most_common_bit([0,0,1]) == 0\n",
    "    assert most_common_bit([1,0]) == 1\n",
    "    assert most_common_bit([0,1,1]) == 1\n",
    "    \n",
    "    assert invert_binary([1,0]) == [0,1]\n",
    "    \n",
    "    assert list(filter_report(test_report, 1, 1)) == [[1, 1, 1, 1, 0],\n",
    "                                                     [0, 1, 1, 1, 1],\n",
    "                                                     [1, 1, 1, 0, 0],\n",
    "                                                     [1, 1, 0, 0, 1],\n",
    "                                                     [0, 1, 0, 1, 0]]\n",
    "    assert list(filter_report(test_report, 3, 0)) == [[0, 0, 1, 0, 0],\n",
    "                                                     [1, 0, 1, 0, 1],\n",
    "                                                     [1, 1, 1, 0, 0],\n",
    "                                                     [1, 0, 0, 0, 0],\n",
    "                                                     [1, 1, 0, 0, 1]]\n",
    "    \n",
    "    assert binary_to_decimal([0,0,1]) == 1\n",
    "    assert binary_to_decimal([0,1,1]) == 3\n",
    "    assert binary_to_decimal([1,0,0]) == 4\n",
    "    \n",
    "    assert power_consumption(test_report) == 198\n",
    "    \n",
    "    assert life_support_rating(test_report) == 230\n",
    "    \n",
    "tests()"
   ]
  },
  {
   "cell_type": "code",
   "execution_count": 221,
   "id": "c9ef5370-fae1-4c3a-b40d-76fed51c65a0",
   "metadata": {},
   "outputs": [],
   "source": [
    "def filter_report(report, position, value):\n",
    "    return filter( lambda bits: bits[position] == value , report)"
   ]
  },
  {
   "cell_type": "code",
   "execution_count": 242,
   "id": "e0151805-7ea4-428b-a948-0bdbd7441978",
   "metadata": {},
   "outputs": [],
   "source": [
    "def oxygen_generator_report(report):\n",
    "    index = 0\n",
    "    while len(report) > 1 and index != len(report[0]):\n",
    "        most_common_bits = [ most_common_bit(bits) for bits in transpose_report(report) ]\n",
    "        report = list(filter_report(report, index, most_common_bits[index]))\n",
    "        index += 1\n",
    "        \n",
    "    return report[0]"
   ]
  },
  {
   "cell_type": "code",
   "execution_count": 243,
   "id": "d8b3cc34-23c0-41cd-8fe6-d0938f41dcdc",
   "metadata": {},
   "outputs": [],
   "source": [
    "def co2_scrubber_rating(report):\n",
    "    index = 0\n",
    "    while len(report) > 1 and index != len(report[0]):\n",
    "        most_common_bits = [ most_common_bit(bits) for bits in transpose_report(report) ]\n",
    "        least_common_bits = invert_binary(most_common_bits)\n",
    "        report = list(filter_report(report, index, least_common_bits[index]))\n",
    "        index += 1\n",
    "        \n",
    "    return report[0]"
   ]
  },
  {
   "cell_type": "code",
   "execution_count": 246,
   "id": "e052683d-0bf2-41d1-8d30-e5b2326a6c95",
   "metadata": {},
   "outputs": [],
   "source": [
    "def life_support_rating(report):\n",
    "    return binary_to_decimal(oxygen_generator_report(report)) * binary_to_decimal(co2_scrubber_rating(report))"
   ]
  },
  {
   "cell_type": "code",
   "execution_count": 249,
   "id": "7e4e5268-7976-4ece-b7b7-d0405684e31e",
   "metadata": {},
   "outputs": [
    {
     "data": {
      "text/plain": [
       "(2954600, 1662846)"
      ]
     },
     "execution_count": 249,
     "metadata": {},
     "output_type": "execute_result"
    }
   ],
   "source": [
    "power_consumption(input01), life_support_rating(input01)"
   ]
  }
 ],
 "metadata": {
  "kernelspec": {
   "display_name": "venv_adventofcode",
   "language": "python",
   "name": "venv_adventofcode"
  },
  "language_info": {
   "codemirror_mode": {
    "name": "ipython",
    "version": 3
   },
   "file_extension": ".py",
   "mimetype": "text/x-python",
   "name": "python",
   "nbconvert_exporter": "python",
   "pygments_lexer": "ipython3",
   "version": "3.9.7"
  }
 },
 "nbformat": 4,
 "nbformat_minor": 5
}
