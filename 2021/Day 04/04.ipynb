{
 "cells": [
  {
   "cell_type": "code",
   "execution_count": 249,
   "id": "5f1db7d5-1a7d-4943-b499-0defa6bfdb10",
   "metadata": {},
   "outputs": [],
   "source": [
    "from dataclasses import dataclass\n",
    "import numpy as np"
   ]
  },
  {
   "cell_type": "code",
   "execution_count": 250,
   "id": "d794febd-431b-4084-9f9c-0d927b1293f6",
   "metadata": {},
   "outputs": [],
   "source": [
    "with open('./input.txt', 'r') as f:\n",
    "    input = f.read()\n",
    "    \n",
    "with open('./test_input.txt', 'r') as f:\n",
    "    test_input = f.read()"
   ]
  },
  {
   "cell_type": "code",
   "execution_count": 251,
   "id": "4e49f0d8-1937-4ed1-a72d-ac5806a614bd",
   "metadata": {},
   "outputs": [],
   "source": [
    "def process_input(input):\n",
    "    input = [ line.strip() for line in input.split('\\n') ]\n",
    "    draw_numbers = [ int(number) for number in input[0].split(',') ]\n",
    "    \n",
    "    index = 0\n",
    "    boards = [[]]\n",
    "    for row in input[2:]:\n",
    "        if row == '':\n",
    "            index += 1\n",
    "            boards.append([])\n",
    "        else:\n",
    "            boards[index].append([ int(square) for square in filter(lambda x: x.isnumeric(), row.split(' ')) ])\n",
    "    return draw_numbers, boards"
   ]
  },
  {
   "cell_type": "code",
   "execution_count": 252,
   "id": "fe18c2f9-618f-4fd7-9ec6-1afae69deb75",
   "metadata": {},
   "outputs": [],
   "source": [
    "@dataclass\n",
    "class Square:\n",
    "    number: int\n",
    "    marked: bool = False\n",
    "\n",
    "class Board():\n",
    "    def __init__(self, board):\n",
    "        self.board = np.array([ [ Square(square) for square in row ] for row in board ])\n",
    "        \n",
    "    def __str__(self):\n",
    "        return '\\n'.join( [' '.join(row) for row in [ [ str(square.number).rjust(2) for square in row ] for row in self.board ]] )\n",
    "    \n",
    "    def mark_square(self, number):\n",
    "        for row in self.board:\n",
    "            for square in row:\n",
    "                if square.number == number:\n",
    "                    square.marked = True\n",
    "                    break\n",
    "                    \n",
    "    def is_winner(self):\n",
    "        for row in self.board:\n",
    "            if self._row_is_winner(row):\n",
    "                return True\n",
    "        \n",
    "        for row in self.board.transpose():\n",
    "            if self._row_is_winner(row):\n",
    "                return True\n",
    "            \n",
    "        return False\n",
    "    \n",
    "    def _row_is_winner(self, row):\n",
    "        return sum( [ 1 if square.marked else 0 for square in row ] ) == 5\n",
    "    \n",
    "    def sum_unmarked(self):\n",
    "        return sum( [ square.number if not square.marked else 0 for row in self.board for square in row ] )"
   ]
  },
  {
   "cell_type": "code",
   "execution_count": 253,
   "id": "f1f48bf2-3855-41d9-857e-9570dcf3c733",
   "metadata": {},
   "outputs": [],
   "source": [
    "# evaluation conditions\n",
    "def winning_evaluation(boards):\n",
    "    for board in boards:\n",
    "        if board.is_winner():\n",
    "            return True, board,boards\n",
    "    return False, None, boards\n",
    "        \n",
    "def losing_evaluation(boards):\n",
    "    if len(boards) == 1 and boards[0].is_winner():\n",
    "        return True, boards[0], boards\n",
    "    remaining_boards = list(filter(lambda board: not board.is_winner(), boards))\n",
    "    return False, None, remaining_boards"
   ]
  },
  {
   "cell_type": "code",
   "execution_count": 254,
   "id": "021f3352-c10b-4c95-b838-edcbb627435f",
   "metadata": {},
   "outputs": [],
   "source": [
    "def bingo(input, evaluation):\n",
    "    \n",
    "    def final_score(board, number):\n",
    "        return board.sum_unmarked() * number\n",
    "\n",
    "    def bingo_round(boards, number, evaluation):\n",
    "        for board in boards:\n",
    "            board.mark_square(number)\n",
    "        return evaluation(boards)\n",
    "    \n",
    "    draw_numbers, boards = process_input(input)\n",
    "    boards = [ Board(board) for board in boards ]\n",
    "    for number in draw_numbers:\n",
    "        game_over, best_board, boards = bingo_round(boards, number, evaluation)\n",
    "        if game_over:\n",
    "            return final_score(best_board, number)"
   ]
  },
  {
   "cell_type": "code",
   "execution_count": 255,
   "id": "935f7680-c5bb-4404-9eec-363bd9dd30e8",
   "metadata": {},
   "outputs": [
    {
     "data": {
      "text/plain": [
       "74320"
      ]
     },
     "execution_count": 255,
     "metadata": {},
     "output_type": "execute_result"
    }
   ],
   "source": [
    "# Part 1\n",
    "bingo(input, winning_evaluation)"
   ]
  },
  {
   "cell_type": "code",
   "execution_count": 256,
   "id": "98a85d65-5fb0-49d1-82e5-d9c82afe5d67",
   "metadata": {},
   "outputs": [
    {
     "data": {
      "text/plain": [
       "17884"
      ]
     },
     "execution_count": 256,
     "metadata": {},
     "output_type": "execute_result"
    }
   ],
   "source": [
    "# Part 2\n",
    "bingo(input, losing_evaluation)"
   ]
  }
 ],
 "metadata": {
  "kernelspec": {
   "display_name": "venv_adventofcode",
   "language": "python",
   "name": "venv_adventofcode"
  },
  "language_info": {
   "codemirror_mode": {
    "name": "ipython",
    "version": 3
   },
   "file_extension": ".py",
   "mimetype": "text/x-python",
   "name": "python",
   "nbconvert_exporter": "python",
   "pygments_lexer": "ipython3",
   "version": "3.9.7"
  }
 },
 "nbformat": 4,
 "nbformat_minor": 5
}
