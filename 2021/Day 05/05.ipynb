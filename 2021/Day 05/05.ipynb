{
 "cells": [
  {
   "cell_type": "code",
   "execution_count": 8,
   "id": "248880f4-3402-4301-a533-3fac69a06cdc",
   "metadata": {},
   "outputs": [],
   "source": [
    "with open('./input.txt', 'r') as f:\n",
    "    puzzle_input = f.read()\n",
    "    \n",
    "with open('./test_input.txt', 'r') as f:\n",
    "    puzzle_test_input = f.read()"
   ]
  },
  {
   "cell_type": "code",
   "execution_count": 37,
   "id": "19625d72-9257-422e-8aaa-175e3ec0c61d",
   "metadata": {},
   "outputs": [],
   "source": [
    "def process_input(puzzle_input):\n",
    "    return [ [ tuple( int(point) for point in points.split(',')) for points in segment.split(' -> ') ] for segment in puzzle_input.split('\\n') ]"
   ]
  },
  {
   "cell_type": "code",
   "execution_count": 252,
   "id": "a7661865-e909-41c3-ba8c-99e4c4e1fbde",
   "metadata": {},
   "outputs": [
    {
     "data": {
      "text/plain": [
       "[(9, 7), (8, 8), (7, 9)]"
      ]
     },
     "execution_count": 252,
     "metadata": {},
     "output_type": "execute_result"
    }
   ],
   "source": [
    "class Segment:\n",
    "    \n",
    "    def __init__(self, segment):\n",
    "        self.x1, self.y1 = segment[0]\n",
    "        self.x2, self.y2 = segment[1]\n",
    "        self.points = self._points_on_line()\n",
    "        \n",
    "    def __repr__(self):\n",
    "         return \"Segment(({},{}),({},{}))\".format(self.x1, self.y1, self.x2, self.y2)\n",
    "    \n",
    "    def is_horizontal(self):\n",
    "        return self.y1 == self.y2\n",
    "    \n",
    "    def is_vertical(self):\n",
    "        return self.x1 == self.x2\n",
    "    \n",
    "    def is_diagonal(self):\n",
    "        return abs(self.x1 - self.x2) == abs(self.y1 - self.y2)\n",
    "    \n",
    "    def is_valid(self):\n",
    "        return self.is_horizontal() or self.is_vertical() or self.is_diagonal()\n",
    "    \n",
    "    def _inclusive_range(self, a, b):\n",
    "        if a < b:\n",
    "            return range(a, b + 1)\n",
    "        else:\n",
    "            return range(a, b - 1, -1)\n",
    "    \n",
    "    def _points_on_line(self):\n",
    "        if self.is_diagonal():\n",
    "            return list(zip(self._inclusive_range(self.x1, self.x2), self._inclusive_range(self.y1, self.y2)))\n",
    "        \n",
    "        return [ (x,y) for y in self._inclusive_range(self.y1, self.y2) for x in self._inclusive_range(self.x1, self.x2) ]\n",
    "    \n",
    "s = Segment([[9,7],[7,9]])\n",
    "s.points"
   ]
  },
  {
   "cell_type": "code",
   "execution_count": 253,
   "id": "febcb03c-2ad8-4203-a516-058f0f1c2e19",
   "metadata": {},
   "outputs": [],
   "source": [
    "def tests():\n",
    "    assert Segment([[9,7],[7,9]]).points == [(9, 7), (8, 8), (7, 9)]\n",
    "    assert Segment([[7,7],[9,9]]).points == [(7, 7), (8, 8), (9, 9)]\n",
    "    assert Segment([[0,0],[2,0]]).points == [(0, 0), (1, 0), (2, 0)]\n",
    "    assert Segment([[1,0],[3,2]]).points == [(1, 0), (2, 1), (3, 2)]\n",
    "    \n",
    "tests()"
   ]
  },
  {
   "cell_type": "code",
   "execution_count": 254,
   "id": "eeba8d8a-6958-4b83-b41e-5c7658dbaa88",
   "metadata": {},
   "outputs": [],
   "source": [
    "def count_overlapping_points(puzzle_input, valid_filter):\n",
    "    segments = [ Segment(segment) for segment in process_input(puzzle_input) ]\n",
    "    segments = list(filter(valid_filter, segments))\n",
    "    \n",
    "    points = {}\n",
    "    for segment in segments:\n",
    "        for point in segment.points:\n",
    "            points[point] = points.get(point, 0) + 1\n",
    "    \n",
    "    return len({ point:overlap for point, overlap in points.items() if overlap > 1 })"
   ]
  },
  {
   "cell_type": "code",
   "execution_count": 258,
   "id": "dbd070f3-ae87-4490-8e69-f760f4cd0233",
   "metadata": {},
   "outputs": [],
   "source": [
    "def valid_filter_part1(segment):\n",
    "    return segment.is_horizontal() or segment.is_vertical()\n",
    "\n",
    "def valid_filter_part2(segment):\n",
    "    return segment.is_valid()"
   ]
  },
  {
   "cell_type": "code",
   "execution_count": 259,
   "id": "483edd4b-e88e-4651-a668-72d8a4638f25",
   "metadata": {},
   "outputs": [
    {
     "data": {
      "text/plain": [
       "5147"
      ]
     },
     "execution_count": 259,
     "metadata": {},
     "output_type": "execute_result"
    }
   ],
   "source": [
    "# Part 1\n",
    "count_overlapping_points(puzzle_input, valid_filter_part1)"
   ]
  },
  {
   "cell_type": "code",
   "execution_count": 260,
   "id": "95c514c4-ba8e-4990-b444-76c5c6a1c8f7",
   "metadata": {},
   "outputs": [
    {
     "data": {
      "text/plain": [
       "16925"
      ]
     },
     "execution_count": 260,
     "metadata": {},
     "output_type": "execute_result"
    }
   ],
   "source": [
    "# Part 2\n",
    "count_overlapping_points(puzzle_input, valid_filter_part2)"
   ]
  }
 ],
 "metadata": {
  "kernelspec": {
   "display_name": "venv_adventofcode",
   "language": "python",
   "name": "venv_adventofcode"
  },
  "language_info": {
   "codemirror_mode": {
    "name": "ipython",
    "version": 3
   },
   "file_extension": ".py",
   "mimetype": "text/x-python",
   "name": "python",
   "nbconvert_exporter": "python",
   "pygments_lexer": "ipython3",
   "version": "3.9.7"
  }
 },
 "nbformat": 4,
 "nbformat_minor": 5
}
