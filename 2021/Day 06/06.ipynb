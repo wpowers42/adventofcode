{
 "cells": [
  {
   "cell_type": "code",
   "execution_count": 1,
   "id": "feb9d728-5868-494d-aebf-f5b0c2e02840",
   "metadata": {},
   "outputs": [],
   "source": [
    "with open('./input.txt', 'r') as f:\n",
    "    puzzle_input = f.read()\n",
    "    \n",
    "with open('./test_input.txt', 'r') as f:\n",
    "    puzzle_test_input = f.read()"
   ]
  },
  {
   "cell_type": "code",
   "execution_count": 5,
   "id": "aae7d416-d9d4-4561-a6fd-90e7db6ffa42",
   "metadata": {},
   "outputs": [],
   "source": [
    "def process_input(_input):\n",
    "    return [ int(timer) for timer in _input.split(',') ]"
   ]
  },
  {
   "cell_type": "code",
   "execution_count": 122,
   "id": "e851b663-dabf-42e6-9c09-c86590e889fe",
   "metadata": {},
   "outputs": [],
   "source": [
    "class Lanternfish:\n",
    "    \n",
    "    def __init__(self, timer, spawn):\n",
    "        self.timer = timer\n",
    "        self.spawn = spawn\n",
    "        \n",
    "    def update(self):\n",
    "        self.timer -= 1\n",
    "        if self.timer == -1:\n",
    "            self.timer = 6\n",
    "            self.spawn()"
   ]
  },
  {
   "cell_type": "code",
   "execution_count": 148,
   "id": "a1c48158-b646-42c4-ad92-4dd466b46ae9",
   "metadata": {},
   "outputs": [],
   "source": [
    "class LanternfishSchool:\n",
    "    \n",
    "    def __init__(self, fish):\n",
    "        self.school = []\n",
    "        self.spawning_pool = []\n",
    "        [ self.spawn(timer) for timer in fish ]\n",
    "        \n",
    "    def update(self):\n",
    "        self.school = self.school + self.spawning_pool\n",
    "        self.spawning_pool = []\n",
    "        for lanternfish in self.school:\n",
    "            lanternfish.update()\n",
    "            \n",
    "    def spawn(self, timer=8):\n",
    "        \"\"\"Creates a new Lanternfish instance and adds it to the school.\"\"\"\n",
    "        self.spawning_pool.append(Lanternfish(timer, self.spawn))"
   ]
  },
  {
   "cell_type": "markdown",
   "id": "6f5d6e8d-6733-4e23-8843-a510950f204c",
   "metadata": {},
   "source": [
    "### Part 1"
   ]
  },
  {
   "cell_type": "code",
   "execution_count": 217,
   "id": "db0cfd26-793a-420b-8344-7aae666d2b70",
   "metadata": {},
   "outputs": [
    {
     "name": "stdout",
     "output_type": "stream",
     "text": [
      "5934\n"
     ]
    }
   ],
   "source": [
    "school = LanternfishSchool(process_input(puzzle_test_input))\n",
    "for _ in range(80 + 1):\n",
    "    school.update()\n",
    "    \n",
    "print(len(school.school))"
   ]
  },
  {
   "cell_type": "markdown",
   "id": "c3a5b675-7e6d-45d0-b34f-b5e62c81bf6f",
   "metadata": {},
   "source": [
    "### Part 2"
   ]
  },
  {
   "cell_type": "code",
   "execution_count": 218,
   "id": "d01f1c55-d04d-4ebf-8e4f-90343d3555b1",
   "metadata": {},
   "outputs": [],
   "source": [
    "def update(school):\n",
    "    copy = { k-1:v for k,v in school.items() if k > 0 }\n",
    "    copy[8] = school[0]\n",
    "    copy[6] += school[0]\n",
    "    return copy"
   ]
  },
  {
   "cell_type": "code",
   "execution_count": 224,
   "id": "735ed9da-55a5-4abf-ba26-bbcdcbd199a7",
   "metadata": {},
   "outputs": [
    {
     "data": {
      "text/plain": [
       "1629570219571"
      ]
     },
     "execution_count": 224,
     "metadata": {},
     "output_type": "execute_result"
    }
   ],
   "source": [
    "school = { k:0 for k in range(9) }\n",
    "for k in process_input(puzzle_input):\n",
    "    school[k] = school[k] + 1\n",
    "for _ in range(256):\n",
    "    school = update(school)\n",
    "\n",
    "sum( [ v for v in school.values() ])"
   ]
  },
  {
   "cell_type": "code",
   "execution_count": null,
   "id": "96b6adf5-ba54-4b9d-a171-bb573c13f0dd",
   "metadata": {},
   "outputs": [],
   "source": []
  }
 ],
 "metadata": {
  "kernelspec": {
   "display_name": "venv_adventofcode",
   "language": "python",
   "name": "venv_adventofcode"
  },
  "language_info": {
   "codemirror_mode": {
    "name": "ipython",
    "version": 3
   },
   "file_extension": ".py",
   "mimetype": "text/x-python",
   "name": "python",
   "nbconvert_exporter": "python",
   "pygments_lexer": "ipython3",
   "version": "3.9.7"
  }
 },
 "nbformat": 4,
 "nbformat_minor": 5
}
