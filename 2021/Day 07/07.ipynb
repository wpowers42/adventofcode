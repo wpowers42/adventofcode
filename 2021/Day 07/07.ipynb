{
 "cells": [
  {
   "cell_type": "code",
   "execution_count": 158,
   "id": "c6f0b632-e53e-40b1-b303-239689e92428",
   "metadata": {},
   "outputs": [],
   "source": [
    "import cProfile\n",
    "import statistics"
   ]
  },
  {
   "cell_type": "code",
   "execution_count": 181,
   "id": "bc4d9d66-e19e-47d2-9116-7529604abf82",
   "metadata": {},
   "outputs": [],
   "source": [
    "with open('./input.txt', 'r') as f:\n",
    "    puzzle_input = f.read()\n",
    "    \n",
    "with open('./test_input.txt', 'r') as f:\n",
    "    puzzle_test_input = f.read()\n",
    "    \n",
    "def process_input(_input):\n",
    "    return [ int(p) for p in _input.split(',') ]"
   ]
  },
  {
   "cell_type": "code",
   "execution_count": 189,
   "id": "946c8c6f-805b-47b7-bbe3-be122d8ee8af",
   "metadata": {},
   "outputs": [],
   "source": [
    "def main(_input, constraint, evaluation):\n",
    "    _input = process_input(_input)\n",
    "    # positions = list(range(min(_input), max(_input) + 1)) # original solution\n",
    "    positions = constraint(_input) # optimized after solving.\n",
    "    costs = map(lambda position: (position, evaluation(_input, position)), positions)\n",
    "    return min(costs, key=lambda position: position[1])"
   ]
  },
  {
   "cell_type": "markdown",
   "id": "eee335c6-76af-4896-9836-d9e8db4e6b66",
   "metadata": {},
   "source": [
    "### Part 1"
   ]
  },
  {
   "cell_type": "code",
   "execution_count": 191,
   "id": "2e42fae9-d763-4a67-9d48-8973a9a8fceb",
   "metadata": {},
   "outputs": [
    {
     "data": {
      "text/plain": [
       "(362, 342534)"
      ]
     },
     "execution_count": 191,
     "metadata": {},
     "output_type": "execute_result"
    }
   ],
   "source": [
    "def constraint_part1(_input):\n",
    "    \"\"\"Added after initial solution based on observation that the\n",
    "       solutions were the median +/- 1\"\"\"\n",
    "    median = round(statistics.median(_input))\n",
    "    return [median - 1, median, median + 1]\n",
    "\n",
    "def evaluation_part1(_input, target_position):\n",
    "    \"\"\"Added after initial solution based on observation that the\n",
    "       solutions were the mean +/- 1\"\"\"\n",
    "    return sum([abs(target_position - p) for p in _input])\n",
    "\n",
    "main(puzzle_input, constraint_part1, evaluation_part1)"
   ]
  },
  {
   "cell_type": "markdown",
   "id": "41db1ade-f918-48ff-8af5-d45f2b79c88a",
   "metadata": {
    "tags": []
   },
   "source": [
    "### Part 2"
   ]
  },
  {
   "cell_type": "code",
   "execution_count": 192,
   "id": "c9fc5fa1-fe2d-412d-a0d4-142ce6ae32c0",
   "metadata": {},
   "outputs": [
    {
     "data": {
      "text/plain": [
       "(474, 94004208.0)"
      ]
     },
     "execution_count": 192,
     "metadata": {},
     "output_type": "execute_result"
    }
   ],
   "source": [
    "def sum_series(n):\n",
    "    \"\"\"The sum of a series from 1 to N the average of 1 and N times N.\"\"\"\n",
    "    return n * (n+1) / 2\n",
    "\n",
    "def constraint_part2(_input):\n",
    "    median = round(statistics.mean(_input))\n",
    "    return [median - 1, median, median + 1]\n",
    "\n",
    "def evaluation_part2(_input, target_position):\n",
    "    return sum([sum_series(abs(target_position - p)) for p in _input])\n",
    "\n",
    "main(puzzle_input, constraint_part2, evaluation_part2)"
   ]
  },
  {
   "cell_type": "code",
   "execution_count": 195,
   "id": "3a6805f5-9b87-4fd0-a127-65f55fb67075",
   "metadata": {},
   "outputs": [
    {
     "name": "stdout",
     "output_type": "stream",
     "text": [
      "         8064 function calls in 0.003 seconds\n",
      "\n",
      "   Ordered by: standard name\n",
      "\n",
      "   ncalls  tottime  percall  cumtime  percall filename:lineno(function)\n",
      "        1    0.000    0.000    0.000    0.000 257888302.py:7(process_input)\n",
      "        1    0.000    0.000    0.000    0.000 257888302.py:8(<listcomp>)\n",
      "     3000    0.001    0.000    0.001    0.000 2982591727.py:1(sum_series)\n",
      "        3    0.001    0.000    0.002    0.001 2982591727.py:10(<listcomp>)\n",
      "        1    0.000    0.000    0.001    0.001 2982591727.py:5(constraint_part2)\n",
      "        3    0.000    0.000    0.002    0.001 2982591727.py:9(evaluation_part2)\n",
      "        1    0.000    0.000    0.003    0.003 3547640182.py:1(main)\n",
      "        3    0.000    0.000    0.002    0.001 3547640182.py:5(<lambda>)\n",
      "        3    0.000    0.000    0.000    0.000 3547640182.py:6(<lambda>)\n",
      "        1    0.000    0.000    0.003    0.003 <string>:1(<module>)\n",
      "        1    0.000    0.000    0.000    0.000 abc.py:117(__instancecheck__)\n",
      "        3    0.000    0.000    0.000    0.000 fractions.py:256(numerator)\n",
      "        4    0.000    0.000    0.000    0.000 fractions.py:260(denominator)\n",
      "        1    0.000    0.000    0.000    0.000 fractions.py:356(forward)\n",
      "        1    0.000    0.000    0.000    0.000 fractions.py:368(reverse)\n",
      "        1    0.000    0.000    0.000    0.000 fractions.py:383(_add)\n",
      "        1    0.000    0.000    0.000    0.000 fractions.py:405(_div)\n",
      "        3    0.000    0.000    0.000    0.000 fractions.py:62(__new__)\n",
      "        1    0.000    0.000    0.000    0.000 numbers.py:283(__float__)\n",
      "        1    0.000    0.000    0.001    0.001 statistics.py:123(_sum)\n",
      "        2    0.000    0.000    0.000    0.000 statistics.py:177(<genexpr>)\n",
      "        2    0.000    0.000    0.000    0.000 statistics.py:188(_coerce)\n",
      "     1001    0.000    0.000    0.000    0.000 statistics.py:219(_exact_ratio)\n",
      "        1    0.000    0.000    0.000    0.000 statistics.py:251(_convert)\n",
      "        1    0.000    0.000    0.001    0.001 statistics.py:295(mean)\n",
      "        3    0.000    0.000    0.000    0.000 {built-in method __new__ of type object at 0x104b532b0}\n",
      "        1    0.000    0.000    0.000    0.000 {built-in method _abc._abc_instancecheck}\n",
      "     3000    0.000    0.000    0.000    0.000 {built-in method builtins.abs}\n",
      "        1    0.000    0.000    0.003    0.003 {built-in method builtins.exec}\n",
      "        2    0.000    0.000    0.000    0.000 {built-in method builtins.isinstance}\n",
      "        1    0.000    0.000    0.000    0.000 {built-in method builtins.issubclass}\n",
      "        1    0.000    0.000    0.000    0.000 {built-in method builtins.iter}\n",
      "        1    0.000    0.000    0.000    0.000 {built-in method builtins.len}\n",
      "        1    0.000    0.000    0.002    0.002 {built-in method builtins.min}\n",
      "        1    0.000    0.000    0.000    0.000 {built-in method builtins.round}\n",
      "        1    0.000    0.000    0.000    0.000 {built-in method builtins.sorted}\n",
      "        4    0.000    0.000    0.000    0.000 {built-in method builtins.sum}\n",
      "        3    0.000    0.000    0.000    0.000 {built-in method math.gcd}\n",
      "        1    0.000    0.000    0.000    0.000 {method 'disable' of '_lsprof.Profiler' objects}\n",
      "     1000    0.000    0.000    0.000    0.000 {method 'get' of 'dict' objects}\n",
      "        1    0.000    0.000    0.000    0.000 {method 'items' of 'dict' objects}\n",
      "        1    0.000    0.000    0.000    0.000 {method 'split' of 'str' objects}\n",
      "\n",
      "\n"
     ]
    }
   ],
   "source": [
    "\"\"\"profiler to find bottlenecks\"\"\"\n",
    "cProfile.run('main(puzzle_input, constraint_part2, evaluation_part2)')"
   ]
  },
  {
   "cell_type": "code",
   "execution_count": null,
   "id": "b0f29b63-541a-4ed7-bb68-ae84b4a60bd0",
   "metadata": {},
   "outputs": [],
   "source": []
  }
 ],
 "metadata": {
  "kernelspec": {
   "display_name": "venv_adventofcode",
   "language": "python",
   "name": "venv_adventofcode"
  },
  "language_info": {
   "codemirror_mode": {
    "name": "ipython",
    "version": 3
   },
   "file_extension": ".py",
   "mimetype": "text/x-python",
   "name": "python",
   "nbconvert_exporter": "python",
   "pygments_lexer": "ipython3",
   "version": "3.9.7"
  }
 },
 "nbformat": 4,
 "nbformat_minor": 5
}
