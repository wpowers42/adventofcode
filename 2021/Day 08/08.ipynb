{
 "cells": [
  {
   "cell_type": "code",
   "execution_count": 18,
   "id": "4b2765d3-8ae1-4771-a0b4-05165b707023",
   "metadata": {},
   "outputs": [],
   "source": [
    "with open('./input.txt', 'r') as f:\n",
    "    puzzle_input = f.read()\n",
    "    \n",
    "with open('./test_input.txt', 'r') as f:\n",
    "    puzzle_test_input = f.read()\n",
    "    \n",
    "def process_input(_input):\n",
    "    \n",
    "    def process_line(line):\n",
    "        patterns, digits = line.split(' | ')\n",
    "        patterns = [ set(pattern) for pattern in patterns.split(' ') ]\n",
    "        digits = [ set(digit) for digit in digits.split(' ') ]\n",
    "        return [patterns, digits]\n",
    "    \n",
    "    return [ process_line(line) for line in _input.split('\\n') ]"
   ]
  },
  {
   "cell_type": "markdown",
   "id": "52499dbf-2df7-42f2-a43b-832aaa371e0c",
   "metadata": {},
   "source": [
    "# Part 1"
   ]
  },
  {
   "cell_type": "code",
   "execution_count": 82,
   "id": "0cdb010e-45a7-40a7-b043-786f12f8fbdc",
   "metadata": {
    "tags": []
   },
   "outputs": [
    {
     "name": "stdout",
     "output_type": "stream",
     "text": [
      "445\n"
     ]
    }
   ],
   "source": [
    "index = 0\n",
    "for line in process_input(puzzle_input):\n",
    "    for digit in line[1]:\n",
    "        if len(digit) in [2,3,4,7]:\n",
    "            index += 1\n",
    "print(index)"
   ]
  },
  {
   "cell_type": "markdown",
   "id": "bb9c4592-29f8-497a-8d0b-ed424f1c8364",
   "metadata": {},
   "source": [
    "# Part 2"
   ]
  },
  {
   "cell_type": "code",
   "execution_count": 69,
   "id": "23cc802d-fc53-454b-81d2-9bd77abbe6a5",
   "metadata": {},
   "outputs": [],
   "source": [
    "def parse(pattern):\n",
    "    one   = list(filter(lambda p: len(p) == 2, pattern))[0]\n",
    "    four  = list(filter(lambda p: len(p) == 4, pattern))[0]\n",
    "    seven = list(filter(lambda p: len(p) == 3, pattern))[0]\n",
    "    eight = list(filter(lambda p: len(p) == 7, pattern))[0]\n",
    "    zero  = list(filter(lambda p: len(p) == 6 and len(four - (p | one)) == 1, pattern))[0]\n",
    "    six   = list(filter(lambda p: len(p) == 6 and p | one == eight, pattern))[0]\n",
    "    \n",
    "    two_three_five_nine = list(filter(lambda p: p not in [zero, one, four, six, seven, eight], pattern))\n",
    "    nine = list(filter(lambda p: len(p) == 6, two_three_five_nine))[0]\n",
    "    five = list(filter(lambda p: p | one == nine and p != nine, two_three_five_nine))[0]\n",
    "    \n",
    "    two_three = list(filter(lambda p: p not in [five, nine], two_three_five_nine))\n",
    "    three = list(filter(lambda p: p | four == nine, two_three))[0]\n",
    "    two = list(filter(lambda p: p != three, two_three))[0]\n",
    "    \n",
    "    return [ zero, one, two, three, four, five, six, seven, eight, nine ]"
   ]
  },
  {
   "cell_type": "code",
   "execution_count": 78,
   "id": "87cf0757-6b8d-4d4a-aa8d-014a1096867d",
   "metadata": {},
   "outputs": [
    {
     "data": {
      "text/plain": [
       "1043101"
      ]
     },
     "execution_count": 78,
     "metadata": {},
     "output_type": "execute_result"
    }
   ],
   "source": [
    "def get_output_values(_input):\n",
    "    output_values = []\n",
    "    for line in _input:\n",
    "        mapping = parse(line[0])\n",
    "        digits = \"\"\n",
    "        for digit in line[1]:\n",
    "            digits += str(mapping.index(digit))\n",
    "\n",
    "        output_values.append(int(digits))\n",
    "    return sum(output_values)\n",
    "\n",
    "get_output_values(process_input(puzzle_input))"
   ]
  }
 ],
 "metadata": {
  "kernelspec": {
   "display_name": "venv_adventofcode",
   "language": "python",
   "name": "venv_adventofcode"
  },
  "language_info": {
   "codemirror_mode": {
    "name": "ipython",
    "version": 3
   },
   "file_extension": ".py",
   "mimetype": "text/x-python",
   "name": "python",
   "nbconvert_exporter": "python",
   "pygments_lexer": "ipython3",
   "version": "3.9.9"
  }
 },
 "nbformat": 4,
 "nbformat_minor": 5
}
