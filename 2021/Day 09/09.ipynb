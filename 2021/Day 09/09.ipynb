{
 "cells": [
  {
   "cell_type": "code",
   "execution_count": 1,
   "id": "28441d74-de32-4f64-a6e4-7c5b7a640765",
   "metadata": {},
   "outputs": [],
   "source": [
    "import numpy as np"
   ]
  },
  {
   "cell_type": "code",
   "execution_count": 2,
   "id": "d42f2a2e-4c22-48ce-8c85-009685ea5964",
   "metadata": {},
   "outputs": [],
   "source": [
    "with open('./input.txt', 'r') as f:\n",
    "    puzzle_input = f.read()\n",
    "    \n",
    "with open('./test_input.txt', 'r') as f:\n",
    "    puzzle_test_input = f.read()\n",
    "    \n",
    "def process_input(_input):\n",
    "    return [ [ int(c) for c in row ] for row in _input.split('\\n') ]"
   ]
  },
  {
   "cell_type": "code",
   "execution_count": 73,
   "id": "71988359-e838-4cf5-a2cf-108d401aed89",
   "metadata": {},
   "outputs": [],
   "source": [
    "def create_heightmap(_input):\n",
    "    \"\"\"Padding to avoid out of range errors.\"\"\"\n",
    "    return np.pad(np.array(process_input(_input)), [(1,1),(1,1)], mode='constant', constant_values=-1)"
   ]
  },
  {
   "cell_type": "markdown",
   "id": "43602991-e0b1-4a23-85e8-5b3c2fb4f1ea",
   "metadata": {},
   "source": [
    "# Part 1"
   ]
  },
  {
   "cell_type": "code",
   "execution_count": 81,
   "id": "cacb5708-71d3-4f99-ac47-929b2271d9e0",
   "metadata": {},
   "outputs": [],
   "source": [
    "def get_neighbors(point, heightmap):\n",
    "    y,x = point\n",
    "    return [ (point, heightmap[point]) for point in [(y-1, x), (y+1, x), (y, x-1), (y, x+1)] ]"
   ]
  },
  {
   "cell_type": "code",
   "execution_count": 82,
   "id": "703703ae-252f-49f1-ba8a-60943fbe0540",
   "metadata": {},
   "outputs": [],
   "source": [
    "def find_low_points(_input):\n",
    "    heightmap = create_heightmap(_input)\n",
    "    low_points = []\n",
    "    for row_index, row in enumerate(heightmap):\n",
    "        if row_index == 0 or row_index == len(heightmap) - 1:\n",
    "            # Skip row padding.\n",
    "            continue\n",
    "        for col_index, value in enumerate(row):\n",
    "            if col_index == 0 or col_index == len(row) - 1:\n",
    "                # Skip column padding.\n",
    "                continue\n",
    "            \n",
    "            # get neighbors and ignore numpy padding cells\n",
    "            neighbors = list(filter(lambda p: p[1] != -1, get_neighbors((row_index, col_index), heightmap)))\n",
    "            if min(neighbors, key=lambda p: p[1])[1] > value:\n",
    "                # we found a low point\n",
    "                low_points.append(((row_index, col_index), value))\n",
    "    return low_points"
   ]
  },
  {
   "cell_type": "code",
   "execution_count": 87,
   "id": "5c0b3e78-4a29-4249-9bcb-6529b35f7767",
   "metadata": {},
   "outputs": [
    {
     "data": {
      "text/plain": [
       "458"
      ]
     },
     "execution_count": 87,
     "metadata": {},
     "output_type": "execute_result"
    }
   ],
   "source": [
    "sum([ point[1] + 1 for point in find_low_points(puzzle_input) ])"
   ]
  },
  {
   "cell_type": "markdown",
   "id": "37238989-bfa2-4846-a5a1-d1a083cb504f",
   "metadata": {},
   "source": [
    "# Part 2"
   ]
  },
  {
   "cell_type": "code",
   "execution_count": 84,
   "id": "4c0b99ba-4f10-49d6-9e8e-75cc078bed20",
   "metadata": {},
   "outputs": [],
   "source": [
    "def search_basin(visited_points, node, heightmap):\n",
    "    node_position, node_value = node\n",
    "    \n",
    "    # Mark this location as visited\n",
    "    visited_points[node_position] = True\n",
    "    neighbor_points = get_neighbors(node_position, heightmap)\n",
    "    for (position, value) in neighbor_points:\n",
    "        if position not in visited_points:\n",
    "            # We haven't visited this point\n",
    "            if value not in (-1, 9) and value > node_value:\n",
    "                # This point is a valid part of the basin, let's check it out!\n",
    "                search_basin(visited_points, (position, value), heightmap)"
   ]
  },
  {
   "cell_type": "code",
   "execution_count": 85,
   "id": "4482b826-4d3c-4836-89c2-8d26cab4b6f0",
   "metadata": {},
   "outputs": [
    {
     "data": {
      "text/plain": [
       "1391940"
      ]
     },
     "execution_count": 85,
     "metadata": {},
     "output_type": "execute_result"
    }
   ],
   "source": [
    "heightmap = create_heightmap(puzzle_input)\n",
    "low_points = find_low_points(puzzle_input)\n",
    "basins = []\n",
    "for low_point in low_points:\n",
    "    visited_points = {}\n",
    "    search_basin(visited_points, low_point, heightmap)\n",
    "    basins.append({ k:v for k,v in visited_points.items() if v})\n",
    "\n",
    "# Sort the basins by length descending and take the product of the top 3\n",
    "np.prod([ len(basin) for basin in sorted(basins, key=lambda basin: -len(basin))[:3] ])"
   ]
  }
 ],
 "metadata": {
  "kernelspec": {
   "display_name": "venv_adventofcode",
   "language": "python",
   "name": "venv_adventofcode"
  },
  "language_info": {
   "codemirror_mode": {
    "name": "ipython",
    "version": 3
   },
   "file_extension": ".py",
   "mimetype": "text/x-python",
   "name": "python",
   "nbconvert_exporter": "python",
   "pygments_lexer": "ipython3",
   "version": "3.9.9"
  }
 },
 "nbformat": 4,
 "nbformat_minor": 5
}
