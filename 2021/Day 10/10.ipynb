{
 "cells": [
  {
   "cell_type": "code",
   "execution_count": 1,
   "id": "e2107a5e-25e5-4abd-8fe7-3780b5132483",
   "metadata": {},
   "outputs": [],
   "source": [
    "import re"
   ]
  },
  {
   "cell_type": "code",
   "execution_count": 2,
   "id": "523c5326-d8dd-44b6-a2cd-c4ebd35d8143",
   "metadata": {},
   "outputs": [],
   "source": [
    "with open('./input.txt', 'r') as f:\n",
    "    prod = f.read()\n",
    "    \n",
    "with open('./test_input.txt', 'r') as f:\n",
    "    test = f.read()\n",
    "    \n",
    "def process_input(_input):\n",
    "    return  _input.split('\\n')"
   ]
  },
  {
   "cell_type": "markdown",
   "id": "e9d9bffa-9480-4d9a-8072-7ec1e5441f47",
   "metadata": {},
   "source": [
    "# Part 1"
   ]
  },
  {
   "cell_type": "code",
   "execution_count": 3,
   "id": "18eeb495-9fe7-458d-9b5f-c18bb786a102",
   "metadata": {},
   "outputs": [],
   "source": [
    "def simplify(line):\n",
    "    sub = re.sub(r\"{}|\\(\\)|\\[\\]|<>\", \"\", line)\n",
    "    return sub if len(line) == len(sub) else simplify(sub)"
   ]
  },
  {
   "cell_type": "code",
   "execution_count": 4,
   "id": "01454020-b4d8-46fd-a226-ca7b0b8d5d80",
   "metadata": {},
   "outputs": [
    {
     "data": {
      "text/plain": [
       "345441"
      ]
     },
     "execution_count": 4,
     "metadata": {},
     "output_type": "execute_result"
    }
   ],
   "source": [
    "error_values = { \")\": 3, \"]\": 57, \"}\": 1197, \">\": 25137 }\n",
    "error_score = 0\n",
    "for line in process_input(prod):\n",
    "    for c in simplify(line):\n",
    "        if c in error_values:\n",
    "            error_score += error_values[c]\n",
    "            break\n",
    "error_score"
   ]
  },
  {
   "cell_type": "markdown",
   "id": "45b60e27-12b0-4aac-9dc1-a687ab1ec114",
   "metadata": {},
   "source": [
    "# Part 2"
   ]
  },
  {
   "cell_type": "code",
   "execution_count": 13,
   "id": "7f2484cb-3e71-4a24-a705-83f96b7d9ff8",
   "metadata": {},
   "outputs": [],
   "source": [
    "def mirror(line):\n",
    "    \"\"\"Flip it and reverse it - Missy Elliott\"\"\"\n",
    "    table = {\n",
    "        ord(\"{\"): \"}\",\n",
    "        ord(\"<\"): \">\",\n",
    "        ord(\"(\"): \")\",\n",
    "        ord(\"[\"): \"]\"\n",
    "    }\n",
    "    return line.translate(table)[::-1]"
   ]
  },
  {
   "cell_type": "code",
   "execution_count": 6,
   "id": "4bc673ed-3b2d-4037-8d1c-75dc51c04706",
   "metadata": {},
   "outputs": [],
   "source": [
    "point_values = { \")\": 1, \"]\": 2, \"}\": 3, \">\": 4 }\n",
    "def scoring(line):\n",
    "    score = 0\n",
    "    for char in line:\n",
    "        score *= 5\n",
    "        score += point_values[char]\n",
    "    return score"
   ]
  },
  {
   "cell_type": "code",
   "execution_count": 12,
   "id": "011e2e14-3d6f-471e-bc29-18857868641c",
   "metadata": {},
   "outputs": [
    {
     "name": "stdout",
     "output_type": "stream",
     "text": [
      "3235371166\n"
     ]
    }
   ],
   "source": [
    "scores = []\n",
    "for line in process_input(prod):\n",
    "    simplified_line = simplify(line)\n",
    "    if not any((char in \")]}>\") for char in simplified_line):\n",
    "        scores.append(scoring(mirror(simplified_line)))\n",
    "\n",
    "scores = sorted(scores)\n",
    "while len(scores) != 1:\n",
    "    scores = scores[1:-1]\n",
    "print(scores[0])"
   ]
  },
  {
   "cell_type": "markdown",
   "id": "6f18269a-7785-4ada-99f1-388044bbe27e",
   "metadata": {},
   "source": [
    "# Tests"
   ]
  },
  {
   "cell_type": "code",
   "execution_count": 8,
   "id": "25ce0ab7-cf07-42bb-a2d3-05f74dc947ca",
   "metadata": {},
   "outputs": [],
   "source": [
    "def tests():\n",
    "    assert simplify(\"[({(<(())[]>[[{[]{<()<>>\") == \"[({([[{{\"\n",
    "    assert mirror(\"[({([[{{\") == \"}}]])})]\"\n",
    "    assert scoring(\"}}]])})]\") == 288957\n",
    "    \n",
    "tests()"
   ]
  }
 ],
 "metadata": {
  "kernelspec": {
   "display_name": "venv_adventofcode",
   "language": "python",
   "name": "venv_adventofcode"
  },
  "language_info": {
   "codemirror_mode": {
    "name": "ipython",
    "version": 3
   },
   "file_extension": ".py",
   "mimetype": "text/x-python",
   "name": "python",
   "nbconvert_exporter": "python",
   "pygments_lexer": "ipython3",
   "version": "3.9.9"
  }
 },
 "nbformat": 4,
 "nbformat_minor": 5
}
