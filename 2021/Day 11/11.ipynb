{
 "cells": [
  {
   "cell_type": "code",
   "execution_count": 116,
   "id": "85ee56eb-a00e-4d81-852d-5b76701a156a",
   "metadata": {},
   "outputs": [],
   "source": [
    "import numpy as np"
   ]
  },
  {
   "cell_type": "code",
   "execution_count": 187,
   "id": "cd8d9359-8c48-4f4c-89c8-ce3e462ee9f2",
   "metadata": {},
   "outputs": [],
   "source": [
    "def process_input(_input):\n",
    "    return np.array([[int(i) for i in line] for line in _input.split('\\n')]).astype(float)\n",
    "\n",
    "with open('./input.txt', 'r') as f:\n",
    "    prod = process_input(f.read())\n",
    "    \n",
    "with open('./test_input.txt', 'r') as f:\n",
    "    test = process_input(f.read())"
   ]
  },
  {
   "cell_type": "code",
   "execution_count": 221,
   "id": "25526c1b-27f2-45d6-9deb-370e74dbb8af",
   "metadata": {},
   "outputs": [
    {
     "name": "stdout",
     "output_type": "stream",
     "text": [
      "Step 1: 1755 | Step 2: 212\n"
     ]
    }
   ],
   "source": [
    "energy_levels = prod\n",
    "flash_count = 0\n",
    "flash_sync  = None\n",
    "for step in range(300):\n",
    "    \n",
    "    # If all energy levels are zero, the Octopuses synchronized last step\n",
    "    zeros = list(zip(*np.where(energy_levels == 0)))\n",
    "    if len(zeros) == 100 and flash_sync is None:\n",
    "        flash_sync = step\n",
    "    \n",
    "    # Increment all energy levels to start step\n",
    "    energy_levels = energy_levels + 1\n",
    "    \n",
    "    \n",
    "    flashes = list(zip(*np.where(energy_levels == 10)))\n",
    "    # Handle flashing Octopuses\n",
    "    while len(flashes) > 0:\n",
    "        # Step 1 only counts flashes after first 100 steps\n",
    "        if step < 100:\n",
    "            flash_count += len(flashes)\n",
    "        \n",
    "        # Increase energy levels of all neighbors to flashing Octopuses\n",
    "        for flash in flashes:\n",
    "            row, col = flash\n",
    "            for rix in (row - 1, row, row + 1):\n",
    "                    if rix >= 0 and rix < len(energy_levels):\n",
    "                        for cix in (col - 1, col, col + 1):\n",
    "                            if cix >= 0 and cix < len(energy_levels[0]):\n",
    "                                if not (rix == row and cix == col):\n",
    "                                    energy_levels[rix][cix] += 1\n",
    "            \n",
    "            # Prevent Octopuses from flashing more than once per step.\n",
    "            energy_levels[row][col] = np.nan\n",
    "        \n",
    "        # Handle newly flashing Octopuses in next loop.\n",
    "        # >= 10 instead of == 10 to handle multiple triggers.\n",
    "        flashes = list(zip(*np.where(energy_levels >= 10)))\n",
    "    \n",
    "    # Reset all flashed Octopuses' energy level to 0\n",
    "    energy_levels[np.isnan(energy_levels)] = 0\n",
    "\n",
    "print(\"Step 1: {} | Step 2: {}\".format(flash_count, flash_sync))"
   ]
  },
  {
   "cell_type": "code",
   "execution_count": null,
   "id": "a548bb09-9c90-4a90-b848-426f56751cac",
   "metadata": {},
   "outputs": [],
   "source": []
  }
 ],
 "metadata": {
  "kernelspec": {
   "display_name": "venv_adventofcode",
   "language": "python",
   "name": "venv_adventofcode"
  },
  "language_info": {
   "codemirror_mode": {
    "name": "ipython",
    "version": 3
   },
   "file_extension": ".py",
   "mimetype": "text/x-python",
   "name": "python",
   "nbconvert_exporter": "python",
   "pygments_lexer": "ipython3",
   "version": "3.9.9"
  }
 },
 "nbformat": 4,
 "nbformat_minor": 5
}
