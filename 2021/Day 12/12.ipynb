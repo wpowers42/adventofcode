{
 "cells": [
  {
   "cell_type": "code",
   "execution_count": 1,
   "id": "41ee1437-fce6-4bef-89b1-9854c45ded75",
   "metadata": {},
   "outputs": [],
   "source": [
    "from collections import Counter\n",
    "import cProfile"
   ]
  },
  {
   "cell_type": "code",
   "execution_count": 2,
   "id": "58f7e58c-633f-4340-a619-044e7305da88",
   "metadata": {},
   "outputs": [],
   "source": [
    "def process_input(_input):\n",
    "    return _input.split('\\n')\n",
    "\n",
    "with open('./input.txt', 'r') as f:\n",
    "    prod = process_input(f.read())\n",
    "    \n",
    "with open('./test_input.txt', 'r') as f:\n",
    "    test = process_input(f.read())"
   ]
  },
  {
   "cell_type": "code",
   "execution_count": 7,
   "id": "23563cf7-3c77-4d01-af10-6403be8874ab",
   "metadata": {},
   "outputs": [],
   "source": [
    "def create_cave_map(pairs):\n",
    "    cave_map = {}\n",
    "    for pair in pairs:\n",
    "        a,b = pair.split('-')\n",
    "        if a != 'end' and b != 'start':\n",
    "            cave_map[a] = cave_map.get(a, []) + [b]\n",
    "        if a != 'start' and b != 'end':\n",
    "            cave_map[b] = cave_map.get(b, []) + [a]\n",
    "    return cave_map\n",
    "\n",
    "def small_cave_visited_twice(path):\n",
    "    \"\"\"TODO: Memoization\"\"\"\n",
    "    c = Counter(path)\n",
    "    return len({ k for k,v in c.items() if k.islower() and k not in ('start', 'end') and v > 1}) > 0\n",
    "\n",
    "def explore(cave, path, cave_map, paths, part2=False):\n",
    "    if cave == 'end':\n",
    "        paths.append(path)\n",
    "        return\n",
    "    options = cave_map[cave]\n",
    "    for option in options:\n",
    "        if option not in path or option.isupper() or (not small_cave_visited_twice(path) and part2):\n",
    "            explore(option, path + (option,), cave_map, paths, part2)"
   ]
  },
  {
   "cell_type": "markdown",
   "id": "8ffcfe71-7af2-4c25-b72f-d05660cae9aa",
   "metadata": {},
   "source": [
    "# Part 1"
   ]
  },
  {
   "cell_type": "code",
   "execution_count": 12,
   "id": "e0c9308a-0e64-416c-b082-e21dc6412d55",
   "metadata": {},
   "outputs": [
    {
     "data": {
      "text/plain": [
       "4338"
      ]
     },
     "execution_count": 12,
     "metadata": {},
     "output_type": "execute_result"
    }
   ],
   "source": [
    "paths = []\n",
    "explore('start', ('start',), create_cave_map(prod), paths, part2=False)\n",
    "len(paths)"
   ]
  },
  {
   "cell_type": "markdown",
   "id": "9bdcd7d8-01db-4c3a-b09e-12bbcdfc108f",
   "metadata": {
    "tags": []
   },
   "source": [
    "# Part 2"
   ]
  },
  {
   "cell_type": "code",
   "execution_count": 13,
   "id": "89a08022-5606-4ecc-bae8-8ff09f82d725",
   "metadata": {},
   "outputs": [
    {
     "data": {
      "text/plain": [
       "114189"
      ]
     },
     "execution_count": 13,
     "metadata": {},
     "output_type": "execute_result"
    }
   ],
   "source": [
    "paths = []\n",
    "explore('start', ('start',), create_cave_map(prod), paths, part2=True)\n",
    "len(paths)"
   ]
  },
  {
   "cell_type": "code",
   "execution_count": 15,
   "id": "976e3f8b-75f3-42af-a848-dfe090074a8f",
   "metadata": {},
   "outputs": [
    {
     "name": "stdout",
     "output_type": "stream",
     "text": [
      "All tests pass\n"
     ]
    }
   ],
   "source": [
    "def tests():\n",
    "    assert create_cave_map(test) == {'start': ['A', 'b'], 'A': ['c', 'b', 'end'], 'c': ['A'], 'b': ['A', 'd', 'end'], 'd': ['b']}\n",
    "    assert small_cave_visited_twice(('start', 'A', 'c', 'A', 'b', 'd', 'b')) is True\n",
    "    assert small_cave_visited_twice(('start', 'A', 'c', 'A', 'b', 'd')) is False\n",
    "    print('All tests pass')\n",
    "    \n",
    "tests()"
   ]
  },
  {
   "cell_type": "code",
   "execution_count": 17,
   "id": "b1f47f14-2cd0-480c-81b9-07798f4971f8",
   "metadata": {},
   "outputs": [
    {
     "name": "stdout",
     "output_type": "stream",
     "text": [
      "         21128785 function calls (20640626 primitive calls) in 3.603 seconds\n",
      "\n",
      "   Ordered by: standard name\n",
      "\n",
      "   ncalls  tottime  percall  cumtime  percall filename:lineno(function)\n",
      "        1    0.000    0.000    0.000    0.000 359743609.py:1(create_cave_map)\n",
      "  1065750    0.542    0.000    3.049    0.000 359743609.py:11(small_cave_visited_twice)\n",
      "  1065750    0.962    0.000    1.211    0.000 359743609.py:14(<setcomp>)\n",
      " 488160/1    0.504    0.000    3.603    3.603 359743609.py:16(explore)\n",
      "        1    0.000    0.000    3.603    3.603 <string>:1(<module>)\n",
      "  1065750    0.315    0.000    1.221    0.000 __init__.py:581(__init__)\n",
      "  1065750    0.230    0.000    0.906    0.000 __init__.py:649(update)\n",
      "  1065750    0.099    0.000    0.198    0.000 abc.py:117(__instancecheck__)\n",
      "  1065750    0.099    0.000    0.099    0.000 {built-in method _abc._abc_instancecheck}\n",
      "  1065750    0.337    0.000    0.337    0.000 {built-in method _collections._count_elements}\n",
      "        1    0.000    0.000    3.603    3.603 {built-in method builtins.exec}\n",
      "  1065750    0.142    0.000    0.340    0.000 {built-in method builtins.isinstance}\n",
      "  1065750    0.038    0.000    0.038    0.000 {built-in method builtins.len}\n",
      "   114189    0.005    0.000    0.005    0.000 {method 'append' of 'list' objects}\n",
      "        1    0.000    0.000    0.000    0.000 {method 'disable' of '_lsprof.Profiler' objects}\n",
      "       40    0.000    0.000    0.000    0.000 {method 'get' of 'dict' objects}\n",
      "  8654032    0.249    0.000    0.249    0.000 {method 'islower' of 'str' objects}\n",
      "  1214837    0.045    0.000    0.045    0.000 {method 'isupper' of 'str' objects}\n",
      "  1065750    0.038    0.000    0.038    0.000 {method 'items' of 'dict' objects}\n",
      "       23    0.000    0.000    0.000    0.000 {method 'split' of 'str' objects}\n",
      "\n",
      "\n"
     ]
    }
   ],
   "source": [
    "# TODO: add caching for identifying small and large caves\n",
    "# TODO: improve method to identify if small cave visited more than once\n",
    "cProfile.run(\"explore('start', ('start',), create_cave_map(prod), paths, part2=True)\")"
   ]
  },
  {
   "cell_type": "code",
   "execution_count": null,
   "id": "225ee705-d7f8-4dd9-8c5d-ed6d503b8163",
   "metadata": {},
   "outputs": [],
   "source": []
  }
 ],
 "metadata": {
  "kernelspec": {
   "display_name": "venv_adventofcode",
   "language": "python",
   "name": "venv_adventofcode"
  },
  "language_info": {
   "codemirror_mode": {
    "name": "ipython",
    "version": 3
   },
   "file_extension": ".py",
   "mimetype": "text/x-python",
   "name": "python",
   "nbconvert_exporter": "python",
   "pygments_lexer": "ipython3",
   "version": "3.9.9"
  }
 },
 "nbformat": 4,
 "nbformat_minor": 5
}
