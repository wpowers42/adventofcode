{
 "cells": [
  {
   "cell_type": "code",
   "execution_count": 1,
   "id": "41ee1437-fce6-4bef-89b1-9854c45ded75",
   "metadata": {},
   "outputs": [],
   "source": [
    "import cProfile"
   ]
  },
  {
   "cell_type": "code",
   "execution_count": 2,
   "id": "58f7e58c-633f-4340-a619-044e7305da88",
   "metadata": {},
   "outputs": [],
   "source": [
    "def process_input(_input):\n",
    "    return _input.split('\\n')\n",
    "\n",
    "with open('./input.txt', 'r') as f:\n",
    "    prod = process_input(f.read())\n",
    "    \n",
    "with open('./test_input.txt', 'r') as f:\n",
    "    test = process_input(f.read())"
   ]
  },
  {
   "cell_type": "code",
   "execution_count": 14,
   "id": "23563cf7-3c77-4d01-af10-6403be8874ab",
   "metadata": {},
   "outputs": [],
   "source": [
    "class CaveSystem:\n",
    "    \n",
    "    def __init__(self, _input):\n",
    "        self.cave_map = create_cave_map(_input)\n",
    "        self.small_caves = { k for k in self.cave_map if k.islower() and k not in ('start','end') }\n",
    "        self.large_caves = { k for k in self.cave_map if k.isupper() and k not in ('start','end') }\n",
    "        self.paths = []\n",
    "\n",
    "def create_cave_map(pairs):\n",
    "    cave_map = {}\n",
    "    for pair in pairs:\n",
    "        a,b = pair.split('-')\n",
    "        if a != 'end' and b != 'start':\n",
    "            cave_map[a] = cave_map.get(a, []) + [b]\n",
    "        if a != 'start' and b != 'end':\n",
    "            cave_map[b] = cave_map.get(b, []) + [a]\n",
    "    return cave_map\n",
    "\n",
    "def small_cave_visited_twice(path, cave_system):\n",
    "    for small_cave in cave_system.small_caves:\n",
    "        if path.count(small_cave) > 1:\n",
    "            return True\n",
    "    return False\n",
    "\n",
    "def explore(cave, path, cave_system, part2=False):\n",
    "    if cave == 'end':\n",
    "        cave_system.paths.append(path)\n",
    "        return\n",
    "    can_visit_small_cave_again = not small_cave_visited_twice(path, cave_system) and part2\n",
    "    options = cave_system.cave_map[cave]\n",
    "    for option in options:\n",
    "        if option not in path or option in cave_system.large_caves or can_visit_small_cave_again:\n",
    "            explore(option, path + (option,), cave_system, part2)"
   ]
  },
  {
   "cell_type": "markdown",
   "id": "8ffcfe71-7af2-4c25-b72f-d05660cae9aa",
   "metadata": {},
   "source": [
    "# Part 1"
   ]
  },
  {
   "cell_type": "code",
   "execution_count": 15,
   "id": "e0c9308a-0e64-416c-b082-e21dc6412d55",
   "metadata": {},
   "outputs": [
    {
     "data": {
      "text/plain": [
       "4338"
      ]
     },
     "execution_count": 15,
     "metadata": {},
     "output_type": "execute_result"
    }
   ],
   "source": [
    "cave_system = CaveSystem(prod)\n",
    "explore('start', ('start',), cave_system, part2=False)\n",
    "len(cave_system.paths)"
   ]
  },
  {
   "cell_type": "markdown",
   "id": "9bdcd7d8-01db-4c3a-b09e-12bbcdfc108f",
   "metadata": {
    "tags": []
   },
   "source": [
    "# Part 2"
   ]
  },
  {
   "cell_type": "code",
   "execution_count": 16,
   "id": "89a08022-5606-4ecc-bae8-8ff09f82d725",
   "metadata": {},
   "outputs": [
    {
     "data": {
      "text/plain": [
       "114189"
      ]
     },
     "execution_count": 16,
     "metadata": {},
     "output_type": "execute_result"
    }
   ],
   "source": [
    "cave_system = CaveSystem(prod)\n",
    "explore('start', ('start',), cave_system, part2=True)\n",
    "len(cave_system.paths)"
   ]
  },
  {
   "cell_type": "code",
   "execution_count": 9,
   "id": "976e3f8b-75f3-42af-a848-dfe090074a8f",
   "metadata": {},
   "outputs": [
    {
     "name": "stdout",
     "output_type": "stream",
     "text": [
      "All tests pass\n"
     ]
    }
   ],
   "source": [
    "def tests():\n",
    "    cave_system = CaveSystem(test)\n",
    "    assert create_cave_map(test) == {'start': ['A', 'b'], 'A': ['c', 'b', 'end'], 'c': ['A'], 'b': ['A', 'd', 'end'], 'd': ['b']}\n",
    "    assert small_cave_visited_twice(('start', 'A', 'c', 'A', 'b', 'd', 'b'), cave_system) is True\n",
    "    assert small_cave_visited_twice(('start', 'A', 'c', 'A', 'b', 'd'), cave_system) is False\n",
    "    print('All tests pass')\n",
    "    \n",
    "tests()"
   ]
  },
  {
   "cell_type": "code",
   "execution_count": 17,
   "id": "b1f47f14-2cd0-480c-81b9-07798f4971f8",
   "metadata": {},
   "outputs": [
    {
     "name": "stdout",
     "output_type": "stream",
     "text": [
      "         2782774 function calls (2294615 primitive calls) in 0.719 seconds\n",
      "\n",
      "   Ordered by: standard name\n",
      "\n",
      "   ncalls  tottime  percall  cumtime  percall filename:lineno(function)\n",
      "   373971    0.174    0.000    0.402    0.000 1629321877.py:19(small_cave_visited_twice)\n",
      " 488160/1    0.314    0.000    0.719    0.719 1629321877.py:25(explore)\n",
      "        1    0.000    0.000    0.719    0.719 <string>:1(<module>)\n",
      "        1    0.000    0.000    0.719    0.719 {built-in method builtins.exec}\n",
      "   114189    0.003    0.000    0.003    0.000 {method 'append' of 'list' objects}\n",
      "  1806451    0.228    0.000    0.228    0.000 {method 'count' of 'tuple' objects}\n",
      "        1    0.000    0.000    0.000    0.000 {method 'disable' of '_lsprof.Profiler' objects}\n",
      "\n",
      "\n"
     ]
    }
   ],
   "source": [
    "# TODO: add caching for identifying small and large caves\n",
    "# TODO: improve method to identify if small cave visited more than once\n",
    "cave_system = CaveSystem(prod)\n",
    "cProfile.run(\"explore('start', ('start',), cave_system, part2=True)\")"
   ]
  },
  {
   "cell_type": "code",
   "execution_count": null,
   "id": "225ee705-d7f8-4dd9-8c5d-ed6d503b8163",
   "metadata": {},
   "outputs": [],
   "source": []
  }
 ],
 "metadata": {
  "kernelspec": {
   "display_name": "venv_adventofcode",
   "language": "python",
   "name": "venv_adventofcode"
  },
  "language_info": {
   "codemirror_mode": {
    "name": "ipython",
    "version": 3
   },
   "file_extension": ".py",
   "mimetype": "text/x-python",
   "name": "python",
   "nbconvert_exporter": "python",
   "pygments_lexer": "ipython3",
   "version": "3.9.9"
  }
 },
 "nbformat": 4,
 "nbformat_minor": 5
}
