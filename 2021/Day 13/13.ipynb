{
 "cells": [
  {
   "cell_type": "code",
   "execution_count": 70,
   "id": "e59545fb-6d6e-441f-8e4b-70568a34d9a6",
   "metadata": {},
   "outputs": [],
   "source": [
    "import pprint"
   ]
  },
  {
   "cell_type": "code",
   "execution_count": 35,
   "id": "d8771b27-5f5b-477d-8335-ad791bb942a8",
   "metadata": {},
   "outputs": [],
   "source": [
    "def process_input(_input):\n",
    "    points, instructions = _input.split('\\n\\n')\n",
    "    points = set(tuple(int(n) for n in point.split(',')) for point in points.split('\\n'))\n",
    "    instructions = [ instruction.split(' ')[-1] for instruction in instructions.split('\\n') ]\n",
    "    instructions = [ tuple(instruction.split('=')) for instruction in instructions ]\n",
    "    instructions = [ tuple((instruction[0], int(instruction[1]))) for instruction in instructions ]\n",
    "    return points, instructions\n",
    "\n",
    "with open('./input.txt', 'r') as f:\n",
    "    prod = process_input(f.read())\n",
    "    \n",
    "with open('./test_input.txt', 'r') as f:\n",
    "    test = process_input(f.read())"
   ]
  },
  {
   "cell_type": "code",
   "execution_count": 99,
   "id": "63ce367c-6094-4305-9b38-5b46a0aaf0f2",
   "metadata": {},
   "outputs": [
    {
     "name": "stdout",
     "output_type": "stream",
     "text": [
      "All tests pass!\n"
     ]
    }
   ],
   "source": [
    "def reflect(fold, value):\n",
    "    return 2 * fold - value if value > fold else value\n",
    "\n",
    "def tests():\n",
    "    assert reflect(7, 13) == 1\n",
    "    assert reflect(7, 0) == 0\n",
    "    assert reflect(5, 6) == 4\n",
    "    print('All tests pass!')\n",
    "\n",
    "tests()"
   ]
  },
  {
   "cell_type": "code",
   "execution_count": 96,
   "id": "cb62146b-aa79-43ee-b3a2-c13b1ad8ed6d",
   "metadata": {},
   "outputs": [],
   "source": [
    "def process_instructions(points, instructions, part_two=False):\n",
    "    points, instructions = prod\n",
    "    instructions = instructions if part_two else instructions[:1]\n",
    "    for instruction in instructions:\n",
    "        direction, fold = instruction\n",
    "        if direction == 'y':\n",
    "            points = set( tuple((point[0], reflect(fold, point[1]))) for point in points )\n",
    "        else:\n",
    "            points = set( tuple((reflect(fold, point[0]), point[1])) for point in points )\n",
    "    return points"
   ]
  },
  {
   "cell_type": "markdown",
   "id": "1022d56f-8291-4eeb-9d05-23e45f687fc3",
   "metadata": {},
   "source": [
    "### Part 1"
   ]
  },
  {
   "cell_type": "code",
   "execution_count": 97,
   "id": "d253d6fa-1488-4e41-8015-d5fddc01c9c9",
   "metadata": {},
   "outputs": [
    {
     "data": {
      "text/plain": [
       "602"
      ]
     },
     "execution_count": 97,
     "metadata": {},
     "output_type": "execute_result"
    }
   ],
   "source": [
    "len(process_instructions(*prod))"
   ]
  },
  {
   "cell_type": "markdown",
   "id": "4636642f-33cc-4e68-8836-907478c588b2",
   "metadata": {},
   "source": [
    "### Part 2"
   ]
  },
  {
   "cell_type": "code",
   "execution_count": 98,
   "id": "2397912b-89d7-4a03-963e-f06ebddc6808",
   "metadata": {},
   "outputs": [
    {
     "name": "stdout",
     "output_type": "stream",
     "text": [
      ".##...##..####...##.#..#.####..##..#..#\n",
      "#..#.#..#.#.......#.#..#....#.#..#.#.#.\n",
      "#....#..#.###.....#.####...#..#....##..\n",
      "#....####.#.......#.#..#..#...#....#.#.\n",
      "#..#.#..#.#....#..#.#..#.#....#..#.#.#.\n",
      ".##..#..#.#.....##..#..#.####..##..#..#\n"
     ]
    }
   ],
   "source": [
    "points = process_instructions(*prod, True)\n",
    "x = 0\n",
    "y = 0\n",
    "for point in points:\n",
    "    x = point[0] if point[0] > x else x\n",
    "    y = point[1] if point[1] > y else y\n",
    "\n",
    "message = [ ['.' for x in range(x+1)] for y in range(y+1)]\n",
    "\n",
    "for point in points:\n",
    "    message[point[1]][point[0]] = '#'\n",
    "\n",
    "for line in message:\n",
    "    print(''.join(line))"
   ]
  }
 ],
 "metadata": {
  "kernelspec": {
   "display_name": "venv_adventofcode",
   "language": "python",
   "name": "venv_adventofcode"
  },
  "language_info": {
   "codemirror_mode": {
    "name": "ipython",
    "version": 3
   },
   "file_extension": ".py",
   "mimetype": "text/x-python",
   "name": "python",
   "nbconvert_exporter": "python",
   "pygments_lexer": "ipython3",
   "version": "3.9.9"
  }
 },
 "nbformat": 4,
 "nbformat_minor": 5
}
