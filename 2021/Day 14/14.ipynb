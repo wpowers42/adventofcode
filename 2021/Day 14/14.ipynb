{
 "cells": [
  {
   "cell_type": "code",
   "execution_count": 5,
   "id": "e4fd76d4-a306-4be1-b0a8-f1e7d318624c",
   "metadata": {},
   "outputs": [],
   "source": [
    "from parse import parse, compile\n",
    "# import re"
   ]
  },
  {
   "cell_type": "code",
   "execution_count": 6,
   "id": "3086d2c1-49bb-46e7-bc19-1722514a3e31",
   "metadata": {
    "tags": []
   },
   "outputs": [],
   "source": [
    "def process_input(_input):\n",
    "    polymer_template, pair_insertion_rules = _input.split('\\n\\n')\n",
    "    \n",
    "    p = compile(\"{} -> {}\")\n",
    "    pair_insertion_rules = { p.parse(rule)[0]:p.parse(rule)[1] for rule in  pair_insertion_rules.split('\\n') }\n",
    "    pair_insertion_rules = { k:(k[0]+v,v+k[1]) for k,v in pair_insertion_rules.items() }\n",
    "    return polymer_template, pair_insertion_rules\n",
    "\n",
    "with open('./input.txt', 'r') as f:\n",
    "    prod = process_input(f.read())\n",
    "    \n",
    "with open('./test_input.txt', 'r') as f:\n",
    "    test = process_input(f.read())"
   ]
  },
  {
   "cell_type": "markdown",
   "id": "731baa0f-69d3-4029-b866-25332dc2190c",
   "metadata": {},
   "source": [
    "### Successful Attempt"
   ]
  },
  {
   "cell_type": "code",
   "execution_count": 7,
   "id": "6e95eefb-04ef-4ed8-a4be-bf7e143d3334",
   "metadata": {},
   "outputs": [
    {
     "name": "stdout",
     "output_type": "stream",
     "text": [
      "Part 1 3058\n",
      "Part 2 3447389044530\n"
     ]
    }
   ],
   "source": [
    "def polymerization(pairs, rules):\n",
    "    next_pairs = { k:0 for k in rules.keys() }\n",
    "    for pair, value in pairs.items():\n",
    "        if value > 0:\n",
    "            next_pairs[rules[pair][0]] += value\n",
    "            next_pairs[rules[pair][1]] += value\n",
    "    return next_pairs\n",
    "\n",
    "def answer(char_frequency):\n",
    "    # chars are counted twice when in pair form\n",
    "    # odd counts are on the edges\n",
    "    char_frequency = {k:v//2+v%2 for k,v in char_frequency.items()}\n",
    "    return max(char_frequency.values()) - min(char_frequency.values())\n",
    "\n",
    "def main(_input, steps=10):\n",
    "    template, rules = _input\n",
    "    pairs = { k:0 for k in rules.keys() }\n",
    "    for pair in list(zip(template[:-1],template[1:])):\n",
    "        pairs[''.join(pair)] += 1\n",
    "\n",
    "    for _ in range(steps):\n",
    "        pairs = polymerization(pairs, rules)\n",
    "\n",
    "    chars = set()\n",
    "    for rule in rules.keys():\n",
    "        chars = chars | set(rule)\n",
    "\n",
    "    char_frequency = { c:0 for c in chars }\n",
    "\n",
    "    for pair, value in pairs.items():\n",
    "        char_frequency[pair[0]] += value\n",
    "        char_frequency[pair[1]] += value\n",
    "        \n",
    "    return answer(char_frequency)\n",
    "\n",
    "print(\"Part 1\", main(prod))\n",
    "print(\"Part 2\", main(prod, 40))"
   ]
  },
  {
   "cell_type": "markdown",
   "id": "034f1e11-1812-4d53-bae3-7aff99e2d726",
   "metadata": {},
   "source": [
    "### Attempt 1"
   ]
  },
  {
   "cell_type": "code",
   "execution_count": 4,
   "id": "e0c29db5-989f-4bc3-a1a9-e5ea52d29645",
   "metadata": {},
   "outputs": [],
   "source": [
    "def polymerization(template, rules):\n",
    "    polymer = ''\n",
    "    for index in range(len(template) - 1):\n",
    "        polymer += template[index] + rules.get(template[index] + template[index+1], '')\n",
    "    polymer += template[-1]\n",
    "    return polymer\n",
    "\n",
    "def main():\n",
    "    template, rules = prod\n",
    "    for _ in range(15):\n",
    "        template = polymerization(template, rules)\n",
    "\n",
    "    counter = Counter(template).most_common()\n",
    "    return counter[0][1] - counter[-1][1]"
   ]
  },
  {
   "cell_type": "markdown",
   "id": "57fe3a80-b9d0-46cf-a3c1-a9a28b6d162d",
   "metadata": {
    "tags": []
   },
   "source": [
    "### Attempt 2"
   ]
  },
  {
   "cell_type": "code",
   "execution_count": 91,
   "id": "d2d9c986-e98c-4817-83a9-f69620e62e71",
   "metadata": {},
   "outputs": [],
   "source": [
    "class Node:\n",
    "    def __init__(self, data):\n",
    "        self.data = data\n",
    "        self.next = None\n",
    "        \n",
    "class LinkedList:\n",
    "    \"\"\"Broke after refactoring input for a different approach.\"\"\"\n",
    "    def __init__(self, nodes=None):\n",
    "        self.head = None\n",
    "        if nodes is not None:\n",
    "            node = Node(data=nodes.pop(0))\n",
    "            self.head = node\n",
    "            for n in nodes:\n",
    "                node.next = Node(data=n)\n",
    "                node = node.next\n",
    "    \n",
    "    def __str__(self): \n",
    "        s = ''\n",
    "        node = self.head\n",
    "        while node is not None:\n",
    "            s += node.data\n",
    "            node = node.next\n",
    "        return s\n",
    "                \n",
    "def polymerization(linked_list, rules):\n",
    "    node = linked_list.head\n",
    "    while node.next is not None:\n",
    "        if node.data + node.next.data in rules:\n",
    "            insert = Node(rules[node.data + node.next.data])\n",
    "            insert.next = node.next\n",
    "            node.next = insert\n",
    "            node = insert.next\n",
    "        else:\n",
    "            node = node.next\n",
    "            \n",
    "def main():\n",
    "    template, rules = test\n",
    "    linked_list = LinkedList(list(template))\n",
    "    for _ in range(40):\n",
    "        polymerization(linked_list, rules)\n",
    "\n",
    "    s = str(linked_list)\n",
    "    counter = Counter(s).most_common()\n",
    "    return counter[0][1] - counter[-1][1]"
   ]
  },
  {
   "cell_type": "markdown",
   "id": "cd3f36ad-db48-4220-8aa4-5279a8971982",
   "metadata": {},
   "source": [
    "### Attempt 3"
   ]
  },
  {
   "cell_type": "code",
   "execution_count": 20,
   "id": "2c68407d-9edd-4149-ad63-5612897af89c",
   "metadata": {},
   "outputs": [
    {
     "data": {
      "text/plain": [
       "'NCNCHB'"
      ]
     },
     "execution_count": 20,
     "metadata": {},
     "output_type": "execute_result"
    }
   ],
   "source": [
    "# https://docs.python.org/3/library/re.html#re.sub\n",
    "\n",
    "match = {'CH': 'CBH',\n",
    "         'HH': 'HNH',\n",
    "         'CB': 'CHB',\n",
    "         'NH': 'NCH',\n",
    "         'HB': 'HCB',\n",
    "         'HC': 'HBC',\n",
    "         'HN': 'HCN',\n",
    "         'NN': 'NCN',\n",
    "         'BH': 'BHH',\n",
    "         'NC': 'NBC',\n",
    "         'NB': 'NBB',\n",
    "         'BN': 'BBN',\n",
    "         'BB': 'BNB',\n",
    "         'BC': 'BBC',\n",
    "         'CC': 'CNC',\n",
    "         'CN': 'CCN'}\n",
    "\n",
    "def replace(matchobj):\n",
    "    return match.get(matchobj.group(0), matchobj.group(0))\n",
    "re.sub('|'.join(test[1].keys()), replace, 'NNCB')"
   ]
  }
 ],
 "metadata": {
  "kernelspec": {
   "display_name": "venv_adventofcode",
   "language": "python",
   "name": "venv_adventofcode"
  },
  "language_info": {
   "codemirror_mode": {
    "name": "ipython",
    "version": 3
   },
   "file_extension": ".py",
   "mimetype": "text/x-python",
   "name": "python",
   "nbconvert_exporter": "python",
   "pygments_lexer": "ipython3",
   "version": "3.9.9"
  }
 },
 "nbformat": 4,
 "nbformat_minor": 5
}
