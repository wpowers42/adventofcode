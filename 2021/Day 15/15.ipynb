{
 "cells": [
  {
   "cell_type": "code",
   "execution_count": 100,
   "id": "e8f32a3a-cdef-4f7d-bdcc-f1e48651bf36",
   "metadata": {},
   "outputs": [],
   "source": [
    "from pathfinding.core.diagonal_movement import DiagonalMovement\n",
    "from pathfinding.core.grid import Grid\n",
    "from pathfinding.finder.a_star import AStarFinder\n",
    "import numpy as np"
   ]
  },
  {
   "cell_type": "code",
   "execution_count": 101,
   "id": "65f8e193-c506-4e1b-83f0-49e119133b8b",
   "metadata": {},
   "outputs": [],
   "source": [
    "def process_input(_input):\n",
    "    return [[ int(col) for col in row ] for row in _input.split('\\n')]\n",
    "\n",
    "with open('./input.txt', 'r') as f:\n",
    "    prod = process_input(f.read())\n",
    "    \n",
    "with open('./test_input.txt', 'r') as f:\n",
    "    test = process_input(f.read())"
   ]
  },
  {
   "cell_type": "code",
   "execution_count": 98,
   "id": "56672524-5959-4b74-a50b-3dc81d54d293",
   "metadata": {},
   "outputs": [],
   "source": [
    "def main(matrix):\n",
    "    grid = Grid(matrix=matrix)\n",
    "    start = grid.node(0, 0)\n",
    "    end = grid.node(grid.width - 1, grid.height - 1)\n",
    "    \n",
    "    finder = AStarFinder(diagonal_movement=DiagonalMovement.never)\n",
    "    path, runs = finder.find_path(start, end, grid)\n",
    "    \n",
    "    return sum([ matrix[p[1]][p[0]]for p in path ]) - matrix[0][0]\n",
    "\n",
    "def increase_risk(matrix):\n",
    "    return np.where(matrix < 9, matrix + 1, 1)\n",
    "\n",
    "def expand_matrix(matrix):\n",
    "    h0 = np.array(matrix)\n",
    "    h1 = increase_risk(h0)\n",
    "    h2 = increase_risk(h1)\n",
    "    h3 = increase_risk(h2)\n",
    "    h4 = increase_risk(h3)\n",
    "    v0 = np.hstack((h0, h1, h2, h3, h4))\n",
    "    v1 = increase_risk(v0)\n",
    "    v2 = increase_risk(v1)\n",
    "    v3 = increase_risk(v2)\n",
    "    v4 = increase_risk(v3)\n",
    "    return np.vstack((v0, v1, v2, v3, v4))"
   ]
  },
  {
   "cell_type": "code",
   "execution_count": 99,
   "id": "8b6cfad1-8c43-4110-95f8-49ba4868b6d3",
   "metadata": {},
   "outputs": [
    {
     "name": "stdout",
     "output_type": "stream",
     "text": [
      "Part 1 714 Part 2 2948\n"
     ]
    }
   ],
   "source": [
    "print(\"Part 1\", main(prod), \"Part 2\", main(expand_matrix(prod)))"
   ]
  }
 ],
 "metadata": {
  "kernelspec": {
   "display_name": "venv_adventofcode",
   "language": "python",
   "name": "venv_adventofcode"
  },
  "language_info": {
   "codemirror_mode": {
    "name": "ipython",
    "version": 3
   },
   "file_extension": ".py",
   "mimetype": "text/x-python",
   "name": "python",
   "nbconvert_exporter": "python",
   "pygments_lexer": "ipython3",
   "version": "3.9.9"
  }
 },
 "nbformat": 4,
 "nbformat_minor": 5
}
