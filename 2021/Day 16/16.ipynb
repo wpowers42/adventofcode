{
 "cells": [
  {
   "cell_type": "code",
   "execution_count": 1,
   "id": "1eb0cadc-2222-448f-8a6c-38e97e2221c9",
   "metadata": {},
   "outputs": [],
   "source": [
    "from math import prod"
   ]
  },
  {
   "cell_type": "code",
   "execution_count": 2,
   "id": "4fa326af-6367-4e02-bd57-18e73168834e",
   "metadata": {},
   "outputs": [],
   "source": [
    "test_input_1 = '110100101111111000101000'\n",
    "test_input_2 = '00111000000000000110111101000101001010010001001000000000'\n",
    "test_input_3 = '11101110000000001101010000001100100000100011000001100000'\n",
    "prod_input   = '020D78804D397973DB5B934D9280CC9F43080286957D9F60923592619D3230047C0109763976295356007365B37539ADE687F333EA8469200B666F5DC84E80232FC2C91B8490041332EB4006C4759775933530052C0119FAA7CB6ED57B9BBFBDC153004B0024299B490E537AFE3DA069EC507800370980F96F924A4F1E0495F691259198031C95AEF587B85B254F49C27AA2640082490F4B0F9802B2CFDA0094D5FB5D626E32B16D300565398DC6AFF600A080371BA12C1900042A37C398490F67BDDB131802928F5A009080351DA1FC441006A3C46C82020084FC1BE07CEA298029A008CCF08E5ED4689FD73BAA4510C009981C20056E2E4FAACA36000A10600D45A8750CC8010989716A299002171E634439200B47001009C749C7591BD7D0431002A4A73029866200F1277D7D8570043123A976AD72FFBD9CC80501A00AE677F5A43D8DB54D5FDECB7C8DEB0C77F8683005FC0109FCE7C89252E72693370545007A29C5B832E017CFF3E6B262126E7298FA1CC4A072E0054F5FBECC06671FE7D2C802359B56A0040245924585400F40313580B9B10031C00A500354009100300081D50028C00C1002C005BA300204008200FB50033F70028001FE60053A7E93957E1D09940209B7195A56BCC75AE7F18D46E273882402CCD006A600084C1D8ED0E8401D8A90BE12CCF2F4C4ADA602013BC401B8C11360880021B1361E4511007609C7B8CA8002DC32200F3AC01698EE2FF8A2C95B42F2DBAEB48A401BC5802737F8460C537F8460CF3D953100625C5A7D766E9CB7A39D8820082F29A9C9C244D6529C589F8C693EA5CD0218043382126492AD732924022CE006AE200DC248471D00010986D17A3547F200CA340149EDC4F67B71399BAEF2A64024B78028200FC778311CC40188AF0DA194CF743CC014E4D5A5AFBB4A4F30C9AC435004E662BB3EF0'"
   ]
  },
  {
   "cell_type": "code",
   "execution_count": 3,
   "id": "6013e435-4eaf-4874-a25b-b72ea5b0b6d5",
   "metadata": {},
   "outputs": [],
   "source": [
    "def hex_to_bin(hex):\n",
    "    return ''.join([bin(int(h, 16)).split('0b')[1].zfill(4) for h in hex])\n",
    "\n",
    "assert hex_to_bin('D2FE28') == '110100101111111000101000'\n",
    "assert hex_to_bin('38006F45291200') == '00111000000000000110111101000101001010010001001000000000'"
   ]
  },
  {
   "cell_type": "code",
   "execution_count": 4,
   "id": "6a4f4741-346b-4856-a143-5f6b0be4d206",
   "metadata": {},
   "outputs": [
    {
     "data": {
      "text/plain": [
       "(901, 110434737925)"
      ]
     },
     "execution_count": 4,
     "metadata": {},
     "output_type": "execute_result"
    }
   ],
   "source": [
    "class Packet:\n",
    "    \n",
    "    def __init__(self, bits, debug=False):\n",
    "        self.debug = debug\n",
    "        self._print(f'bits: {bits}')\n",
    "        self.bits = bits\n",
    "        self.version = self._bin_to_int(bits[0:3])\n",
    "        self.version_total = self.version\n",
    "        self.type_id = self._bin_to_int(bits[3:6])\n",
    "        self.index   = 6\n",
    "        self.value   = None\n",
    "        self._print(f'version: {self.version}')\n",
    "        self._print(f'type_id: {self.type_id}')\n",
    "        \n",
    "        \n",
    "        if self.type_id == 4:\n",
    "            self.value = self._parse_literal()\n",
    "            self._print(f'literal: {self.value}')\n",
    "            return\n",
    "        else:\n",
    "            self.subpackets = []\n",
    "            self._subpackets()\n",
    "            self._do_math()\n",
    "            self.version_total += sum([p.version_total for p in self.subpackets])\n",
    "            return\n",
    "        \n",
    "    def _print(self, message):\n",
    "        if self.debug:\n",
    "            print(message)\n",
    "    \n",
    "    def _bin_to_int(self, bits):\n",
    "        return int(f'0b{bits}', 2)\n",
    "    \n",
    "    def _do_math(self):\n",
    "        values = [ packet.value for packet in self.subpackets if packet.value is not None ]\n",
    "        if self.type_id == 0:\n",
    "            self.value = sum(values)\n",
    "        elif self.type_id == 1:\n",
    "            self.value = prod(values)\n",
    "        elif self.type_id == 2:\n",
    "            self.value = min(values)\n",
    "        elif self.type_id == 3:\n",
    "            self.value = max(values)\n",
    "        elif self.type_id == 5:\n",
    "            self.value = 1 if values[0] > values[1] else 0\n",
    "        elif self.type_id == 6:\n",
    "            self.value = 1 if values[0] < values[1] else 0\n",
    "        elif self.type_id == 7:\n",
    "            self.value = 1 if values[0] == values[1] else 0\n",
    "    \n",
    "    def _parse_literal(self):\n",
    "        value = 0\n",
    "        little_bits = ''\n",
    "        while True:\n",
    "            little_bits += self.bits[self.index+1:self.index+5]\n",
    "            self.index += 5\n",
    "            if self.bits[self.index - 5] == '0':\n",
    "                break\n",
    "        return self._bin_to_int(little_bits)\n",
    "        \n",
    "    \n",
    "    def _subpackets(self):\n",
    "        length_type_id = self.bits[self.index]\n",
    "        self._print(f'length type id: {length_type_id}')\n",
    "        self.index += 1\n",
    "        if length_type_id == '0':\n",
    "            packet_length = self._bin_to_int(self.bits[self.index:self.index+15])\n",
    "            self._print(f'packet length: {packet_length}')\n",
    "            self.index += 15\n",
    "            while packet_length > 0:\n",
    "                sp = Packet(self.bits[self.index:])\n",
    "                packet_length -= sp.index\n",
    "                self.index += sp.index\n",
    "                self.subpackets.append(sp)\n",
    "        else:\n",
    "            packet_count = self._bin_to_int(self.bits[self.index:self.index+11])\n",
    "            self.index += 11\n",
    "            while packet_count != 0:\n",
    "                self._print(f'packet count: {packet_count}')\n",
    "                sp = Packet(self.bits[self.index:])\n",
    "                self.index += sp.index\n",
    "                self.subpackets.append(sp)\n",
    "                packet_count -= 1\n",
    "                \n",
    "p = Packet(hex_to_bin(prod_input))\n",
    "p.version_total, p.value"
   ]
  }
 ],
 "metadata": {
  "kernelspec": {
   "display_name": "venv_adventofcode",
   "language": "python",
   "name": "venv_adventofcode"
  },
  "language_info": {
   "codemirror_mode": {
    "name": "ipython",
    "version": 3
   },
   "file_extension": ".py",
   "mimetype": "text/x-python",
   "name": "python",
   "nbconvert_exporter": "python",
   "pygments_lexer": "ipython3",
   "version": "3.9.9"
  }
 },
 "nbformat": 4,
 "nbformat_minor": 5
}
