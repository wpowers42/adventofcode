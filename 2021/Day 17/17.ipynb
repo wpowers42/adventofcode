{
 "cells": [
  {
   "cell_type": "code",
   "execution_count": 18,
   "id": "294d7666-8eda-40c8-96eb-3eef7e913d83",
   "metadata": {},
   "outputs": [],
   "source": [
    "from parse import parse, compile as parse_compile\n",
    "\n",
    "def parse_input(_input):\n",
    "    pc = parse_compile('target area: x={x1:d}..{x2:d}, y={y1:d}..{y2:d}')\n",
    "    return pc.parse(_input)\n",
    "\n",
    "test = parse_input('target area: x=20..30, y=-10..-5')\n",
    "prod = parse_input('target area: x=56..76, y=-162..-134')"
   ]
  },
  {
   "cell_type": "code",
   "execution_count": 78,
   "id": "2328a6c5-b7d3-4eea-98e1-e78b37d5d101",
   "metadata": {},
   "outputs": [
    {
     "name": "stdout",
     "output_type": "stream",
     "text": [
      "All tests passed!\n"
     ]
    }
   ],
   "source": [
    "class TargetArea:\n",
    "    \n",
    "    def __init__(self, target):\n",
    "        self.x1 = min(target['x1'], target['x2'])\n",
    "        self.x2 = max(target['x1'], target['x2'])\n",
    "        self.y1 = max(target['y1'], target['y2'])\n",
    "        self.y2 = min(target['y1'], target['y2'])\n",
    "        \n",
    "    def contains(self, point):\n",
    "        x,y = point    \n",
    "        return x >= self.x1 and x <= self.x2 and y <= self.y1 and y >= self.y2\n",
    "    \n",
    "    def possible(self, point):\n",
    "        x,y = point\n",
    "        return x <= self.x2 and y >= self.y2\n",
    "    \n",
    "def tests():\n",
    "    target = TargetArea(test)\n",
    "    \n",
    "    assert target.contains((20,-5)) is True\n",
    "    assert target.contains((19,-5)) is False\n",
    "    assert target.contains((20,-10)) is True\n",
    "    assert target.contains((20,-11)) is False\n",
    "    \n",
    "    assert target.possible((20,-4)) is True\n",
    "    assert target.possible((19,-4)) is True\n",
    "    assert target.possible((30, -4)) is True\n",
    "    assert target.possible((30, -11)) is False\n",
    "    print('All tests passed!')\n",
    "    \n",
    "tests()"
   ]
  },
  {
   "cell_type": "code",
   "execution_count": 79,
   "id": "9b55407c-102b-46d4-9b1a-4b0c1a3b5b41",
   "metadata": {},
   "outputs": [],
   "source": [
    "class Probe:\n",
    "    \n",
    "    def __init__(self, velocity, target):\n",
    "        self.target_reached = False\n",
    "        self.target_possible = True\n",
    "        self.target = target\n",
    "        self.velocity = velocity\n",
    "        self.position = (0,0)\n",
    "        self.ymax = 0\n",
    "        \n",
    "    def step(self):\n",
    "        x_velocity, y_velocity = self.velocity\n",
    "        x,y = self.position\n",
    "        \n",
    "        x += x_velocity\n",
    "        y += y_velocity\n",
    "        self.position = (x,y)\n",
    "        self.ymax = max(y, self.ymax)\n",
    "        \n",
    "        x_velocity = 0 if x_velocity == 0 else x_velocity - 1 if x_velocity > 0 else x_velocity + 1\n",
    "        y_velocity -= 1\n",
    "        self.velocity = (x_velocity, y_velocity)\n",
    "        \n",
    "        self.target_reached  = self.target.contains(self.position)\n",
    "        self.target_possible = self.target.possible(self.position)"
   ]
  },
  {
   "cell_type": "code",
   "execution_count": 159,
   "id": "d7228d4f-ad86-4719-9a8f-3ed6a9f839b5",
   "metadata": {},
   "outputs": [],
   "source": [
    "class ProbeLauncher:\n",
    "    \n",
    "    def __init__(self, target):\n",
    "        self.target = target\n",
    "        self.probes = []\n",
    "        self.generate_probes()\n",
    "        \n",
    "    def generate_valid_dx(self):\n",
    "        x1 = self.target.x1\n",
    "        x2 = self.target.x2\n",
    "        valid_dx = []\n",
    "        for x in range(1, x2 + 1):\n",
    "            pos = 0\n",
    "            vel = x\n",
    "            while True:\n",
    "                pos += vel\n",
    "                if pos >= x1 and pos <= x2:\n",
    "                    valid_dx.append(x)\n",
    "                    break\n",
    "                elif pos > x2:\n",
    "                    break\n",
    "                vel -= 1\n",
    "                if vel == 0:\n",
    "                    break\n",
    "        return valid_dx\n",
    "    \n",
    "    def generate_valid_dy(self):\n",
    "        y1 = self.target.y1\n",
    "        y2 = self.target.y2\n",
    "        valid_dy = []\n",
    "        for y in range(y2, abs(y2)):\n",
    "            pos = 0\n",
    "            vel = y\n",
    "            while True:\n",
    "                pos += vel\n",
    "                if pos <= y1 and pos >= y2:\n",
    "                    valid_dy.append(y)\n",
    "                    break\n",
    "                elif pos < y2:\n",
    "                    break\n",
    "                vel -= 1\n",
    "        return valid_dy\n",
    "        \n",
    "    def generate_probes(self):\n",
    "        for x in self.generate_valid_dx():\n",
    "            for y in self.generate_valid_dy():\n",
    "                self.probes.append(Probe((x,y), self.target))\n",
    "                \n",
    "    def step(self):\n",
    "        for probe in self.unresolved_probes():\n",
    "            probe.step()\n",
    "                \n",
    "    def unresolved_probes(self):\n",
    "        return list(filter(lambda probe: not probe.target_reached and probe.target_possible, self.probes))"
   ]
  },
  {
   "cell_type": "markdown",
   "id": "75b2be0d-61b8-459b-a619-44ca416f0316",
   "metadata": {},
   "source": [
    "# Parts 1 and 2"
   ]
  },
  {
   "cell_type": "code",
   "execution_count": 167,
   "id": "8814c2bc-9a8a-4159-9090-47cec0ec6434",
   "metadata": {},
   "outputs": [
    {
     "name": "stdout",
     "output_type": "stream",
     "text": [
      "Part 1: 13041 | Part 2: 1031\n"
     ]
    }
   ],
   "source": [
    "target = TargetArea(prod)\n",
    "probe_launcher = ProbeLauncher(target)\n",
    "while len(probe_launcher.unresolved_probes()) > 0:\n",
    "    probe_launcher.step()\n",
    "part_1 = max(probe_launcher.probes, key=lambda p: p.ymax).ymax\n",
    "part_2 = len(list(filter(lambda p: p.target_reached, probe_launcher.probes)))\n",
    "\n",
    "print(f\"Part 1: {part_1} | Part 2: {part_2}\")"
   ]
  }
 ],
 "metadata": {
  "kernelspec": {
   "display_name": "venv_adventofcode",
   "language": "python",
   "name": "venv_adventofcode"
  },
  "language_info": {
   "codemirror_mode": {
    "name": "ipython",
    "version": 3
   },
   "file_extension": ".py",
   "mimetype": "text/x-python",
   "name": "python",
   "nbconvert_exporter": "python",
   "pygments_lexer": "ipython3",
   "version": "3.9.9"
  }
 },
 "nbformat": 4,
 "nbformat_minor": 5
}
