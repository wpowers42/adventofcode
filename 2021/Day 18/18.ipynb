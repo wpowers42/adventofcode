{
 "cells": [
  {
   "cell_type": "code",
   "execution_count": 85,
   "id": "4599dc24-c884-4efe-b7ab-43648769e3e5",
   "metadata": {},
   "outputs": [],
   "source": [
    "from parse import parse, compile\n",
    "import re"
   ]
  },
  {
   "cell_type": "code",
   "execution_count": 86,
   "id": "c476a6a6-d6f2-4c0c-a732-6aa97106fe51",
   "metadata": {},
   "outputs": [],
   "source": [
    "def add(left, right):\n",
    "    return f'[{left},{right}]'\n",
    "\n",
    "assert add('[1,2]', '[[3,4],5]') == '[[1,2],[[3,4],5]]'\n",
    "\n",
    "def parse_pair(pair):\n",
    "    parse_compile = compile('[{left:d},{right:d}]')\n",
    "    pared_pair = parse_compile.parse(pair)\n",
    "    return (pared_pair['left'], pared_pair['right'])"
   ]
  },
  {
   "cell_type": "code",
   "execution_count": 87,
   "id": "37b004bd-04b0-4f08-a742-94bff66d9878",
   "metadata": {},
   "outputs": [],
   "source": [
    "def find_explode(snailfish):\n",
    "    brackets = 0\n",
    "    b_string = ''\n",
    "    explode_start = None\n",
    "    explode_end = None\n",
    "    for ix, char in enumerate(snailfish):\n",
    "        brackets += 1 if char == '[' else -1 if char == ']' else 0\n",
    "        b_string += str(brackets)\n",
    "        if brackets == 5 and explode_start is None:\n",
    "            explode_start = ix\n",
    "        if explode_start is not None and explode_end is None and char == ']':\n",
    "            explode_end = ix\n",
    "    return (explode_start, explode_end)\n",
    "\n",
    "assert find_explode('[[[[[4,3],4],4],[7,[[8,4],9]]],[1,1]]') == (4,8)\n",
    "assert find_explode('[[[[0,7],4],[7,[[8,4],9]]],[1,1]]') == (16,20)\n",
    "assert find_explode('[[[[0,7],4],[[7,8],[0,13]]],[1,1]]') == (None,None)"
   ]
  },
  {
   "cell_type": "code",
   "execution_count": 88,
   "id": "b85152d2-09c7-467c-a857-9e5259591ac1",
   "metadata": {},
   "outputs": [],
   "source": [
    "def explode_match(snailfish, number, reversed=False):\n",
    "    match = re.search(\"(\\d+)\", snailfish)\n",
    "    if match is not None:\n",
    "        span = match.span()\n",
    "        if not reversed:\n",
    "            number = str(int(match.group(1)) + number)\n",
    "        else:\n",
    "            number = str(int(match.group(1)[::-1]) + number)[::-1]\n",
    "        return snailfish[:span[0]] + str(number) + snailfish[span[1]:]\n",
    "    return snailfish\n",
    "\n",
    "def explode(snailfish, pair_index):\n",
    "    ix_start, ix_end = pair_index\n",
    "    left_snailfish = snailfish[:ix_start]\n",
    "    pair = snailfish[ix_start:ix_end+1]\n",
    "    right_snailfish = snailfish[ix_end+1:]\n",
    "    left, right = parse_pair(pair)\n",
    "    \n",
    "    left_snailfish_reversed =  left_snailfish[::-1]\n",
    "    left_snailfish = explode_match(left_snailfish_reversed, left, True)[::-1]\n",
    "    \n",
    "    right_snailfish = explode_match(right_snailfish, right)\n",
    "    \n",
    "    return left_snailfish + '0' + right_snailfish\n",
    "\n",
    "assert explode('[[[[0,7],4],[7,[[8,4],9]]],[1,1]]', (16,20)) == '[[[[0,7],4],[15,[0,13]]],[1,1]]'\n",
    "assert explode('[[[[[4,3],4],4],[7,[[8,4],9]]],[1,1]]', (4,8)) == '[[[[0,7],4],[7,[[8,4],9]]],[1,1]]'\n",
    "assert explode('[[[[4,0],[5,4]],[[7,7],[0,[6,7]]]],[10,[[11,9],[11,0]]]]', (26,30)) == '[[[[4,0],[5,4]],[[7,7],[6,0]]],[17,[[11,9],[11,0]]]]'"
   ]
  },
  {
   "cell_type": "code",
   "execution_count": 89,
   "id": "307eb1af-ae02-4868-bb69-c7d0b7c42ccc",
   "metadata": {},
   "outputs": [],
   "source": [
    "def find_split(snailfish):\n",
    "    match = re.search(\"\\d{2,}\", snailfish)\n",
    "    return match.span() if match is not None else (None,None)\n",
    "\n",
    "assert find_split('[[[[0,7],4],[15,[0,13]]],[1,1]]') == (13,15)\n",
    "assert find_split('[[[[0,7],4],[[7,8],[0,13]]],[1,1]]') == (22,24)\n",
    "assert find_split('[[[[[4,3],4],4],[7,[[8,4],9]]],[1,1]]') == (None,None)"
   ]
  },
  {
   "cell_type": "code",
   "execution_count": 90,
   "id": "b8d7b573-549d-4d50-9872-95c3a684a8aa",
   "metadata": {},
   "outputs": [],
   "source": [
    "def split(snailfish, span):\n",
    "    left_snailfish  = snailfish[:span[0]]\n",
    "    right_snailfish = snailfish[span[1]:]\n",
    "    number = int(snailfish[span[0]:span[1]])\n",
    "    left = number // 2\n",
    "    right = number - left\n",
    "    number = f'[{left},{right}]'\n",
    "    return left_snailfish + number + right_snailfish\n",
    "\n",
    "assert split('[[[[0,7],4],[15,[0,13]]],[1,1]]', (13,15)) == '[[[[0,7],4],[[7,8],[0,13]]],[1,1]]'\n",
    "assert split('[[[[0,7],4],[[7,8],[0,13]]],[1,1]]', (22,24)) == '[[[[0,7],4],[[7,8],[0,[6,7]]]],[1,1]]'"
   ]
  },
  {
   "cell_type": "code",
   "execution_count": 91,
   "id": "28d4dbed-cf0a-4409-84d3-6f0598b25fec",
   "metadata": {},
   "outputs": [],
   "source": [
    "test = \"\"\"[[[0,[5,8]],[[1,7],[9,6]]],[[4,[1,2]],[[1,4],2]]]\n",
    "[[[5,[2,8]],4],[5,[[9,9],0]]]\n",
    "[6,[[[6,2],[5,6]],[[7,6],[4,7]]]]\n",
    "[[[6,[0,7]],[0,9]],[4,[9,[9,0]]]]\n",
    "[[[7,[6,4]],[3,[1,3]]],[[[5,5],1],9]]\n",
    "[[6,[[7,3],[3,2]]],[[[3,8],[5,7]],4]]\n",
    "[[[[5,4],[7,7]],8],[[8,3],8]]\n",
    "[[9,3],[[9,9],[6,[4,9]]]]\n",
    "[[2,[[7,7],7]],[[5,8],[[9,3],[0,2]]]]\n",
    "[[[[5,2],5],[8,[3,7]]],[[5,[7,5]],[4,4]]]\"\"\"\n",
    "\n",
    "test = test.split('\\n')"
   ]
  },
  {
   "cell_type": "code",
   "execution_count": 92,
   "id": "79f41f26-4ea0-4aaa-b1fb-a073ffd8b198",
   "metadata": {},
   "outputs": [],
   "source": [
    "def main(homework):\n",
    "    snailfish = homework[0]\n",
    "    queue = homework[1:]\n",
    "    while True:\n",
    "        if find_explode(snailfish) != (None,None):\n",
    "            snailfish = explode(snailfish, find_explode(snailfish))\n",
    "        elif find_split(snailfish) != (None,None):\n",
    "            snailfish = split(snailfish, find_split(snailfish))\n",
    "        else:\n",
    "            if len(queue) == 0:\n",
    "                break\n",
    "            snailfish = add(snailfish, queue[0])\n",
    "            queue = queue[1:]\n",
    "    return snailfish\n",
    "            \n",
    "assert main(test) == '[[[[6,6],[7,6]],[[7,7],[7,0]]],[[[7,7],[7,7]],[[7,8],[9,9]]]]'"
   ]
  },
  {
   "cell_type": "code",
   "execution_count": 93,
   "id": "9bedecde-0329-4a02-9fc3-93f2daca6912",
   "metadata": {},
   "outputs": [],
   "source": [
    "def magnitude(snailfish):\n",
    "    while True:\n",
    "        match = re.search(\"(\\[\\d+,\\d+\\])\", snailfish)\n",
    "        if match is None:\n",
    "            return int(snailfish)\n",
    "        span = match.span()\n",
    "        group = match.group(1)\n",
    "        left, right = parse_pair(group)\n",
    "        snailfish = snailfish[:span[0]] + str(left * 3 + right * 2) + snailfish[span[1]:]\n",
    "\n",
    "assert magnitude('[[1,2],[[3,4],5]]') == 143"
   ]
  },
  {
   "cell_type": "markdown",
   "id": "c7b7a783-2004-4def-a023-281fecf85259",
   "metadata": {},
   "source": [
    "# Part 1"
   ]
  },
  {
   "cell_type": "code",
   "execution_count": 94,
   "id": "2e59a4c4-d97c-4e1f-9272-0258b6fa3210",
   "metadata": {},
   "outputs": [
    {
     "data": {
      "text/plain": [
       "4243"
      ]
     },
     "execution_count": 94,
     "metadata": {},
     "output_type": "execute_result"
    }
   ],
   "source": [
    "with open('input.txt', 'r') as f:\n",
    "    prod = f.read().split('\\n')\n",
    "magnitude(main(prod))"
   ]
  },
  {
   "cell_type": "markdown",
   "id": "ad267cd6-dba2-4050-8fea-28efd5c685c8",
   "metadata": {},
   "source": [
    "# Part 2"
   ]
  },
  {
   "cell_type": "code",
   "execution_count": 72,
   "id": "a3d4a9ab-ce24-4123-a16d-4ad97d077822",
   "metadata": {},
   "outputs": [
    {
     "data": {
      "text/plain": [
       "4701"
      ]
     },
     "execution_count": 72,
     "metadata": {},
     "output_type": "execute_result"
    }
   ],
   "source": [
    "import itertools\n",
    "permutations = list(itertools.permutations(prod, 2))\n",
    "largest_magnitude = 0\n",
    "for permutation in permutations:\n",
    "    largest_magnitude = max(largest_magnitude, magnitude(main(permutation)))\n",
    "largest_magnitude"
   ]
  },
  {
   "cell_type": "code",
   "execution_count": null,
   "id": "5b0fb4a1-3ab8-4b37-811a-e80dcdf2aeee",
   "metadata": {},
   "outputs": [],
   "source": []
  }
 ],
 "metadata": {
  "kernelspec": {
   "display_name": "venv_adventofcode",
   "language": "python",
   "name": "venv_adventofcode"
  },
  "language_info": {
   "codemirror_mode": {
    "name": "ipython",
    "version": 3
   },
   "file_extension": ".py",
   "mimetype": "text/x-python",
   "name": "python",
   "nbconvert_exporter": "python",
   "pygments_lexer": "ipython3",
   "version": "3.9.9"
  }
 },
 "nbformat": 4,
 "nbformat_minor": 5
}
